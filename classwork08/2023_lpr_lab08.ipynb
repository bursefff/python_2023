{
 "cells": [
  {
   "cell_type": "markdown",
   "id": "cc9180ab",
   "metadata": {},
   "source": [
    "# Лабораторное занятие № 8\n",
    "\n",
    "# Библиотека scipy"
   ]
  },
  {
   "cell_type": "markdown",
   "id": "2905a413",
   "metadata": {},
   "source": [
    "SciPy  — это библиотека Python с открытым исходным кодом, предназначенная для решения научных и математических проблем. Она построена на базе NumPy и позволяет управлять данными, а также визуализировать их с помощью разных высокоуровневых команд. Если вы импортируете SciPy, то NumPy отдельно импортировать не нужно."
   ]
  },
  {
   "cell_type": "markdown",
   "id": "e5d71c3c",
   "metadata": {},
   "source": [
    "В SciPy есть набор пакетов для разных научных вычислений:\n",
    "\n",
    "cluster\t - Алгоритмы кластерного анализа\n",
    "\n",
    "constants - Физические и математические константы\n",
    "\n",
    "fftpack\t- Быстрое преобразование Фурье\n",
    "\n",
    "integrate\t- Решения интегральных и обычных дифференциальных уравнений\n",
    "\n",
    "interpolate\t- Интерполяция и сглаживание сплайнов\n",
    "\n",
    "io\t- Ввод и вывод\n",
    "\n",
    "linalg\t- Линейная алгебра\n",
    "\n",
    "ndimage\t- N-размерная обработка изображений\n",
    "\n",
    "odr\t- Метод ортогональных расстояний\n",
    "\n",
    "optimize\t- Оптимизация и численное решение уравнений\n",
    "\n",
    "signal\t- Обработка сигналов\n",
    "\n",
    "sparse\t- Разреженные матрицы\n",
    "\n",
    "spatial\t- Разреженные структуры данных и алгоритмы\n",
    "\n",
    "special - Специальные функции\n",
    "\n",
    "stats\t- Статистические распределения и функции"
   ]
  },
  {
   "cell_type": "markdown",
   "id": "83f30143",
   "metadata": {},
   "source": [
    "Просмотреть информацию о функции или модуле можно двумя способами:"
   ]
  },
  {
   "cell_type": "code",
   "execution_count": 1,
   "id": "541bf295",
   "metadata": {},
   "outputs": [
    {
     "name": "stdout",
     "output_type": "stream",
     "text": [
      "Help on package scipy.cluster in scipy:\n",
      "\n",
      "NAME\n",
      "    scipy.cluster\n",
      "\n",
      "DESCRIPTION\n",
      "    =========================================\n",
      "    Clustering package (:mod:`scipy.cluster`)\n",
      "    =========================================\n",
      "    \n",
      "    .. currentmodule:: scipy.cluster\n",
      "    \n",
      "    :mod:`scipy.cluster.vq`\n",
      "    \n",
      "    Clustering algorithms are useful in information theory, target detection,\n",
      "    communications, compression, and other areas. The `vq` module only\n",
      "    supports vector quantization and the k-means algorithms.\n",
      "    \n",
      "    :mod:`scipy.cluster.hierarchy`\n",
      "    \n",
      "    The `hierarchy` module provides functions for hierarchical and\n",
      "    agglomerative clustering.  Its features include generating hierarchical\n",
      "    clusters from distance matrices,\n",
      "    calculating statistics on clusters, cutting linkages\n",
      "    to generate flat clusters, and visualizing clusters with dendrograms.\n",
      "\n",
      "PACKAGE CONTENTS\n",
      "    _hierarchy\n",
      "    _optimal_leaf_ordering\n",
      "    _vq\n",
      "    hierarchy\n",
      "    setup\n",
      "    tests (package)\n",
      "    vq\n",
      "\n",
      "DATA\n",
      "    __all__ = ['vq', 'hierarchy']\n",
      "\n",
      "FILE\n",
      "    c:\\users\\medve\\anaconda\\lib\\site-packages\\scipy\\cluster\\__init__.py\n",
      "\n",
      "\n",
      "\n",
      "Welcome to Python 3.9's help utility!\n",
      "\n",
      "If this is your first time using Python, you should definitely check out\n",
      "the tutorial on the Internet at https://docs.python.org/3.9/tutorial/.\n",
      "\n",
      "Enter the name of any module, keyword, or topic to get help on writing\n",
      "Python programs and using Python modules.  To quit this help utility and\n",
      "return to the interpreter, just type \"quit\".\n",
      "\n",
      "To get a list of available modules, keywords, symbols, or topics, type\n",
      "\"modules\", \"keywords\", \"symbols\", or \"topics\".  Each module also comes\n",
      "with a one-line summary of what it does; to list the modules whose name\n",
      "or summary contain a given string such as \"spam\", type \"modules spam\".\n",
      "\n",
      "help> quit\n",
      "\n",
      "You are now leaving help and returning to the Python interpreter.\n",
      "If you want to ask for help on a particular object directly from the\n",
      "interpreter, you can type \"help(object)\".  Executing \"help('string')\"\n",
      "has the same effect as typing a particular string at the help> prompt.\n"
     ]
    }
   ],
   "source": [
    "from scipy import cluster\n",
    "help(cluster)           \n",
    "help()      "
   ]
  },
  {
   "cell_type": "markdown",
   "id": "2ac06d15",
   "metadata": {},
   "source": [
    "Для выхода достаточно ввести quit и нажать Enter."
   ]
  },
  {
   "cell_type": "markdown",
   "id": "e43c05f1",
   "metadata": {},
   "source": [
    "Посмотреть информацию о функции, модуле и т. д. можно через info():"
   ]
  },
  {
   "cell_type": "code",
   "execution_count": 2,
   "id": "facae019",
   "metadata": {},
   "outputs": [
    {
     "name": "stdout",
     "output_type": "stream",
     "text": [
      "=========================================\n",
      "Clustering package (:mod:`scipy.cluster`)\n",
      "=========================================\n",
      "\n",
      ".. currentmodule:: scipy.cluster\n",
      "\n",
      ":mod:`scipy.cluster.vq`\n",
      "\n",
      "Clustering algorithms are useful in information theory, target detection,\n",
      "communications, compression, and other areas. The `vq` module only\n",
      "supports vector quantization and the k-means algorithms.\n",
      "\n",
      ":mod:`scipy.cluster.hierarchy`\n",
      "\n",
      "The `hierarchy` module provides functions for hierarchical and\n",
      "agglomerative clustering.  Its features include generating hierarchical\n",
      "clusters from distance matrices,\n",
      "calculating statistics on clusters, cutting linkages\n",
      "to generate flat clusters, and visualizing clusters with dendrograms.\n"
     ]
    },
    {
     "name": "stderr",
     "output_type": "stream",
     "text": [
      "C:\\Users\\medve\\AppData\\Local\\Temp\\ipykernel_3732\\1561788038.py:3: DeprecationWarning: scipy.info is deprecated and will be removed in SciPy 2.0.0, use numpy.info instead\n",
      "  scipy.info(cluster)\n"
     ]
    }
   ],
   "source": [
    "import scipy\n",
    "\n",
    "scipy.info(cluster)"
   ]
  },
  {
   "cell_type": "markdown",
   "id": "7b8794b2",
   "metadata": {},
   "source": [
    "Вывести исходный код можно через функцию `source()`:"
   ]
  },
  {
   "cell_type": "code",
   "execution_count": 3,
   "id": "ad5a940d",
   "metadata": {},
   "outputs": [
    {
     "name": "stdout",
     "output_type": "stream",
     "text": [
      "In file: C:\\Users\\medve\\anaconda\\lib\\site-packages\\scipy\\cluster\\__init__.py\n",
      "\n",
      "\"\"\"\n",
      "=========================================\n",
      "Clustering package (:mod:`scipy.cluster`)\n",
      "=========================================\n",
      "\n",
      ".. currentmodule:: scipy.cluster\n",
      "\n",
      ":mod:`scipy.cluster.vq`\n",
      "\n",
      "Clustering algorithms are useful in information theory, target detection,\n",
      "communications, compression, and other areas. The `vq` module only\n",
      "supports vector quantization and the k-means algorithms.\n",
      "\n",
      ":mod:`scipy.cluster.hierarchy`\n",
      "\n",
      "The `hierarchy` module provides functions for hierarchical and\n",
      "agglomerative clustering.  Its features include generating hierarchical\n",
      "clusters from distance matrices,\n",
      "calculating statistics on clusters, cutting linkages\n",
      "to generate flat clusters, and visualizing clusters with dendrograms.\n",
      "\n",
      "\"\"\"\n",
      "__all__ = ['vq', 'hierarchy']\n",
      "\n",
      "from . import vq, hierarchy\n",
      "\n",
      "from scipy._lib._testutils import PytestTester\n",
      "test = PytestTester(__name__)\n",
      "del PytestTester\n",
      "\n"
     ]
    },
    {
     "name": "stderr",
     "output_type": "stream",
     "text": [
      "C:\\Users\\medve\\AppData\\Local\\Temp\\ipykernel_3732\\47707676.py:1: DeprecationWarning: scipy.source is deprecated and will be removed in SciPy 2.0.0, use numpy.source instead\n",
      "  scipy.source(cluster)\n"
     ]
    }
   ],
   "source": [
    "scipy.source(cluster)"
   ]
  },
  {
   "cell_type": "markdown",
   "id": "f975242b",
   "metadata": {},
   "source": [
    "### Экспоненциальные и тригонометрические функции"
   ]
  },
  {
   "cell_type": "code",
   "execution_count": 4,
   "id": "ad0a9ded",
   "metadata": {},
   "outputs": [
    {
     "name": "stdout",
     "output_type": "stream",
     "text": [
      "1000.0\n",
      "8.0\n",
      "1.0\n",
      "0.7071067811865475\n"
     ]
    }
   ],
   "source": [
    "from scipy import special\n",
    "a = special.exp10(3)\n",
    "print(a)\n",
    " \n",
    "b = special.exp2(3)\n",
    "print(b)\n",
    " \n",
    "c = special.sindg(90)\n",
    "print(c)\n",
    " \n",
    "d = special.cosdg(45)\n",
    "print(d)"
   ]
  },
  {
   "cell_type": "code",
   "execution_count": null,
   "id": "5534c0d0",
   "metadata": {},
   "outputs": [],
   "source": []
  },
  {
   "cell_type": "markdown",
   "id": "cc6d0ba1",
   "metadata": {},
   "source": [
    "### Интегральные функции\n",
    "\n",
    "Для вычисления интеграла функции с одной переменной в scipy есть функция quad.\n",
    "\n",
    "quad(func, a, b, args=(), full_output=0, epsabs=1.49e-08, \n",
    "epsrel=1.49e-08, limit=50, points=None, weight=None, \n",
    "wvar=None, wopts=None, maxp1=50, limlst=50)\n",
    "\n",
    "В качестве первого аргумента передаётся подинтегральная функция, далее задаются пределы интегрирования.\n",
    "\n",
    "Абсолютная погрешность задаётся параметром epsabs (значение по умолчанию - 1.49e-8), а epsrel - относительная ошибка.\n",
    "\n",
    "Подробнее про параметры функции quad() можно посмотреть документацию: https://docs.scipy.org/doc/scipy/reference/generated/scipy.integrate.quad.html"
   ]
  },
  {
   "cell_type": "markdown",
   "id": "8efcb577",
   "metadata": {},
   "source": [
    "Вычислим значение интеграла $\\int_0^1 x^2 dx$:"
   ]
  },
  {
   "cell_type": "code",
   "execution_count": 21,
   "id": "88df7640",
   "metadata": {
    "scrolled": true
   },
   "outputs": [],
   "source": [
    "import matplotlib.pyplot as plt\n",
    "import numpy as np\n",
    "from scipy import special\n",
    "from scipy import integrate"
   ]
  },
  {
   "cell_type": "code",
   "execution_count": 22,
   "id": "2a304bfc",
   "metadata": {},
   "outputs": [
    {
     "name": "stdout",
     "output_type": "stream",
     "text": [
      "(0.33333333333333337, 3.700743415417189e-15)\n"
     ]
    }
   ],
   "source": [
    "a = lambda x: x*x\n",
    "b = scipy.integrate.quad(a, 0, 1)\n",
    "print(b)"
   ]
  },
  {
   "cell_type": "markdown",
   "id": "638c13a6",
   "metadata": {},
   "source": [
    "Другой вариант задания функции:"
   ]
  },
  {
   "cell_type": "code",
   "execution_count": 23,
   "id": "18cb05fa",
   "metadata": {},
   "outputs": [],
   "source": [
    "def f(x):\n",
    "    return x"
   ]
  },
  {
   "cell_type": "markdown",
   "id": "add35b06",
   "metadata": {},
   "source": [
    "Можно импортировать из модуля нужные функции и уже по их названию (без указания scipy.integrate) обращаться при вызове."
   ]
  },
  {
   "cell_type": "code",
   "execution_count": 24,
   "id": "5ea93020",
   "metadata": {
    "scrolled": true
   },
   "outputs": [
    {
     "name": "stdout",
     "output_type": "stream",
     "text": [
      "Значение интеграла = 0.5 , абсолютная ошибка = 5.551115123125783e-15\n"
     ]
    }
   ],
   "source": [
    "from scipy.integrate import quad, dblquad, tplquad\n",
    "\n",
    "x_lower = 0 # the lower limit of x\n",
    "x_upper = 1 # the upper limit of x\n",
    "\n",
    "val, abserr = quad(f, x_lower, x_upper)\n",
    "\n",
    "print(\"Значение интеграла =\", val, \", абсолютная ошибка =\", abserr)"
   ]
  },
  {
   "cell_type": "code",
   "execution_count": 25,
   "id": "f56d0a3d",
   "metadata": {},
   "outputs": [],
   "source": [
    "from scipy.special import jn, yn, jn_zeros, yn_zeros"
   ]
  },
  {
   "cell_type": "code",
   "execution_count": 26,
   "id": "3f852a7b",
   "metadata": {},
   "outputs": [
    {
     "name": "stdout",
     "output_type": "stream",
     "text": [
      "J_0(0.000000) = 1.000000\n",
      "Y_0(1.000000) = 0.088257\n"
     ]
    }
   ],
   "source": [
    "n = 0    # order\n",
    "x = 0.0\n",
    "\n",
    "# Bessel function of first kind\n",
    "print(\"J_%d(%f) = %f\" % (n, x, jn(n, x)))\n",
    "\n",
    "x = 1.0\n",
    "# Bessel function of second kind\n",
    "print(\"Y_%d(%f) = %f\" % (n, x, yn(n, x)))"
   ]
  },
  {
   "cell_type": "code",
   "execution_count": 27,
   "id": "6aa1bb7a",
   "metadata": {
    "scrolled": false
   },
   "outputs": [
    {
     "data": {
      "image/png": "[encoded data removed]",
      "text/plain": [
       "<Figure size 640x480 with 1 Axes>"
      ]
     },
     "metadata": {},
     "output_type": "display_data"
    }
   ],
   "source": [
    "x = np.linspace(0, 10, 100)\n",
    "\n",
    "fig, ax = plt.subplots()\n",
    "for n in range(4):\n",
    "    ax.plot(x, jn(n, x), label=r\"$J_%d(x)$\" % n)\n",
    "ax.legend()\n",
    "plt.title('Функции Бесселя');"
   ]
  },
  {
   "cell_type": "markdown",
   "id": "c0f97a77",
   "metadata": {},
   "source": [
    "**Упражнение 1.** Найдите нули функции Бесселя. Для решения используйте функцию jn_zeros()."
   ]
  },
  {
   "cell_type": "code",
   "execution_count": null,
   "id": "d6d36906",
   "metadata": {},
   "outputs": [],
   "source": []
  },
  {
   "cell_type": "code",
   "execution_count": 28,
   "id": "af1b64bb",
   "metadata": {},
   "outputs": [
    {
     "name": "stdout",
     "output_type": "stream",
     "text": [
      "Значение интеграла = 0.7366751370811073 , абсолютная ошибка = 9.389126882496403e-13\n"
     ]
    }
   ],
   "source": [
    "def integrand(x, n):\n",
    "    \"\"\"\n",
    "    Bessel function of first kind and order n. \n",
    "    \"\"\"\n",
    "    return jn(n, x)\n",
    "\n",
    "\n",
    "x_lower = 0  # the lower limit of x\n",
    "x_upper = 10 # the upper limit of x\n",
    "\n",
    "val, abserr = quad(integrand, x_lower, x_upper, args=(3,))\n",
    "\n",
    "print(\"Значение интеграла =\", val, \", абсолютная ошибка =\", abserr)"
   ]
  },
  {
   "cell_type": "code",
   "execution_count": 29,
   "id": "2d469594",
   "metadata": {},
   "outputs": [
    {
     "name": "stdout",
     "output_type": "stream",
     "text": [
      "Численное решение  =  1.7724538509055159 1.4202636780944923e-08\n",
      "Аналитическое  решение =  1.7724538509055159\n"
     ]
    }
   ],
   "source": [
    "val, abserr = quad(lambda x: np.exp(-x ** 2), -np.inf, np.inf)\n",
    "\n",
    "print(\"Численное решение  = \", val, abserr)\n",
    "\n",
    "analytical = np.sqrt(np.pi)\n",
    "print(\"Аналитическое  решение = \", analytical)"
   ]
  },
  {
   "cell_type": "code",
   "execution_count": null,
   "id": "9a2c91af",
   "metadata": {},
   "outputs": [],
   "source": []
  },
  {
   "cell_type": "markdown",
   "id": "54f92bc0",
   "metadata": {},
   "source": [
    "**Упражнение 1.** Вычислите значение интеграла $\\int_{\\pi}^{2\\pi} \\cos^2 x \\cdot sin 2x dx$"
   ]
  },
  {
   "cell_type": "code",
   "execution_count": null,
   "id": "4a8bfbc5",
   "metadata": {},
   "outputs": [],
   "source": []
  },
  {
   "cell_type": "markdown",
   "id": "bfc288cf",
   "metadata": {},
   "source": [
    "**Упражнение 2.** Вычислите значение интеграла $\\int_{0}^{+ \\infty} \\exp^{10x} dx$"
   ]
  },
  {
   "cell_type": "code",
   "execution_count": null,
   "id": "0607a1ae",
   "metadata": {},
   "outputs": [],
   "source": []
  },
  {
   "cell_type": "markdown",
   "id": "25b0aef1",
   "metadata": {},
   "source": [
    "**Упражнение 3.** Вычислите площадь между графиками представленными ниже."
   ]
  },
  {
   "cell_type": "code",
   "execution_count": 30,
   "id": "f4c98550",
   "metadata": {
    "scrolled": false
   },
   "outputs": [
    {
     "data": {
      "image/png": "[encoded data removed]",
      "text/plain": [
       "<Figure size 640x480 with 1 Axes>"
      ]
     },
     "metadata": {},
     "output_type": "display_data"
    }
   ],
   "source": [
    "x = np.linspace(100, 200, 100)\n",
    "y1 = special.sindg(x)\n",
    "y2 = special.cosdg(x)*special.cosdg(x)\n",
    "\n",
    "plt.plot(x, y1, 'g')\n",
    "plt.plot(x, y2, 'b')\n",
    "plt.xlabel('x')\n",
    "plt.ylabel('y')\n",
    "plt.show()"
   ]
  },
  {
   "cell_type": "markdown",
   "id": "777bf143",
   "metadata": {},
   "source": [
    "### Двойные интегральные функции"
   ]
  },
  {
   "cell_type": "markdown",
   "id": "abeb3333",
   "metadata": {},
   "source": [
    "Функция *dblquad* используется для вычисления двойных интегралов. Функция *dblquad()* принимает функцию, которую нужно интегрировать, в качестве параметра, а также 4 переменных: две границы и функции dy и dx.\n",
    "\n"
   ]
  },
  {
   "cell_type": "code",
   "execution_count": 31,
   "id": "1974c552",
   "metadata": {},
   "outputs": [
    {
     "name": "stdout",
     "output_type": "stream",
     "text": [
      "0.7853981633974476 1.3753098510218528e-08\n"
     ]
    }
   ],
   "source": [
    "def integrand(x, y):\n",
    "    return np.exp(-x**2-y**2)\n",
    "\n",
    "x_lower = 0  \n",
    "x_upper = 10\n",
    "y_lower = 0\n",
    "y_upper = 10\n",
    "\n",
    "val, abserr = dblquad(integrand, x_lower, x_upper, lambda x : y_lower, lambda x: y_upper)\n",
    "\n",
    "print(val, abserr)"
   ]
  },
  {
   "cell_type": "markdown",
   "id": "3fe44717",
   "metadata": {},
   "source": [
    "**Упражнение 4.** Вычислите значение интеграла $\\int_{1}^{3}\\int_{0}^{2} [\\exp(x^2 + y^2) \\cdot x^2 + \\cos(xy) ]dxdy$."
   ]
  },
  {
   "cell_type": "code",
   "execution_count": null,
   "id": "7aaa8bac",
   "metadata": {},
   "outputs": [],
   "source": []
  },
  {
   "cell_type": "markdown",
   "id": "a4a04e69",
   "metadata": {},
   "source": [
    "**Упражнение 5.** Вычислите значение интеграла $\\int_{1}^{3}\\int_{0}^{2} [\\exp(x^2 + y^2) \\cdot x^2 + \\cos(xy) ]dxdy$ с абсолютной погрешностью $10^{-10}$."
   ]
  },
  {
   "cell_type": "code",
   "execution_count": null,
   "id": "74f69cc4",
   "metadata": {},
   "outputs": [],
   "source": []
  },
  {
   "cell_type": "markdown",
   "id": "23be4e2a",
   "metadata": {},
   "source": [
    "**Упражнение 6.** Вычислите значение интеграла $\\int_{0}^{1}\\int_{x}^{2-x} axy dxdy$, где a - константа. Рассмотрите значения a = 1, 2, 3, 10."
   ]
  },
  {
   "cell_type": "code",
   "execution_count": null,
   "id": "52416859",
   "metadata": {},
   "outputs": [],
   "source": []
  },
  {
   "cell_type": "markdown",
   "id": "2480749f",
   "metadata": {},
   "source": [
    "### Линейная алгебра"
   ]
  },
  {
   "cell_type": "markdown",
   "id": "85ec337d",
   "metadata": {},
   "source": [
    "Решим систему уравнений: $A x = b$"
   ]
  },
  {
   "cell_type": "code",
   "execution_count": 37,
   "id": "8fbd3f49",
   "metadata": {},
   "outputs": [],
   "source": [
    "from scipy.linalg import *\n",
    "\n",
    "A = np.array([[1,2,3], [4,5,6], [7,8,9]])\n",
    "b = np.array([1,2,3])"
   ]
  },
  {
   "cell_type": "code",
   "execution_count": 38,
   "id": "9355b3a8",
   "metadata": {},
   "outputs": [
    {
     "name": "stderr",
     "output_type": "stream",
     "text": [
      "C:\\Users\\medve\\AppData\\Local\\Temp\\ipykernel_3732\\4220959802.py:1: LinAlgWarning: Ill-conditioned matrix (rcond=2.20282e-18): result may not be accurate.\n",
      "  x = solve(A, b)\n"
     ]
    },
    {
     "data": {
      "text/plain": [
       "array([-0.23333333,  0.46666667,  0.1       ])"
      ]
     },
     "execution_count": 38,
     "metadata": {},
     "output_type": "execute_result"
    }
   ],
   "source": [
    "x = solve(A, b)\n",
    "\n",
    "x"
   ]
  },
  {
   "cell_type": "markdown",
   "id": "bb0aa225",
   "metadata": {},
   "source": [
    "Проверим корректность решения:"
   ]
  },
  {
   "cell_type": "code",
   "execution_count": 39,
   "id": "90aee2fd",
   "metadata": {},
   "outputs": [
    {
     "data": {
      "text/plain": [
       "array([ 0.00000000e+00, -2.22044605e-16,  0.00000000e+00])"
      ]
     },
     "execution_count": 39,
     "metadata": {},
     "output_type": "execute_result"
    }
   ],
   "source": [
    "np.dot(A, x) - b"
   ]
  },
  {
   "cell_type": "markdown",
   "id": "5e5d07d0",
   "metadata": {},
   "source": [
    "### Собственные числа и собственные вектора"
   ]
  },
  {
   "cell_type": "markdown",
   "id": "9f181d3c",
   "metadata": {},
   "source": [
    "В scipy есть функция eigvals для вычисления собственных чисел и собственных векторов."
   ]
  },
  {
   "cell_type": "code",
   "execution_count": 40,
   "id": "92bea7be",
   "metadata": {},
   "outputs": [
    {
     "name": "stdout",
     "output_type": "stream",
     "text": [
      "Собственные числа матрицы A равны:  [ 1.61168440e+01+0.j -1.11684397e+00+0.j -3.38433605e-16+0.j] Собственные вектора :  [[-0.23197069 -0.78583024  0.40824829]\n",
      " [-0.52532209 -0.08675134 -0.81649658]\n",
      " [-0.8186735   0.61232756  0.40824829]]\n"
     ]
    }
   ],
   "source": [
    "evals, evecs = eig(A)\n",
    "print('Собственные числа матрицы A равны: ', evals, 'Собственные вектора : ', evecs)"
   ]
  },
  {
   "cell_type": "markdown",
   "id": "c13f9ed5",
   "metadata": {},
   "source": [
    "**Упражнение 7.** Вычислите собственные числа матрицы A = np.array([[5,6,3], [-1,0,1], [1,2,-1]])."
   ]
  },
  {
   "cell_type": "code",
   "execution_count": null,
   "id": "13d726df",
   "metadata": {},
   "outputs": [],
   "source": []
  },
  {
   "cell_type": "markdown",
   "id": "2cee5494",
   "metadata": {},
   "source": [
    "### Операции с матрицами"
   ]
  },
  {
   "cell_type": "markdown",
   "id": "45549de4",
   "metadata": {},
   "source": [
    "Обращение матрицы:"
   ]
  },
  {
   "cell_type": "code",
   "execution_count": 41,
   "id": "c8437ff1",
   "metadata": {},
   "outputs": [
    {
     "data": {
      "text/plain": [
       "array([[ 3.15251974e+15, -6.30503948e+15,  3.15251974e+15],\n",
       "       [-6.30503948e+15,  1.26100790e+16, -6.30503948e+15],\n",
       "       [ 3.15251974e+15, -6.30503948e+15,  3.15251974e+15]])"
      ]
     },
     "execution_count": 41,
     "metadata": {},
     "output_type": "execute_result"
    }
   ],
   "source": [
    "inv(A)"
   ]
  },
  {
   "cell_type": "markdown",
   "id": "070af147",
   "metadata": {},
   "source": [
    "Вычисление определителя матрицы:"
   ]
  },
  {
   "cell_type": "code",
   "execution_count": 42,
   "id": "319f1cf5",
   "metadata": {},
   "outputs": [
    {
     "data": {
      "text/plain": [
       "0.0"
      ]
     },
     "execution_count": 42,
     "metadata": {},
     "output_type": "execute_result"
    }
   ],
   "source": [
    "det(A)"
   ]
  },
  {
   "cell_type": "markdown",
   "id": "91950b24",
   "metadata": {},
   "source": [
    "Вычисление нормы матрицы:"
   ]
  },
  {
   "cell_type": "code",
   "execution_count": 43,
   "id": "f51b01d8",
   "metadata": {},
   "outputs": [
    {
     "data": {
      "text/plain": [
       "(16.84810335261421, 24.0)"
      ]
     },
     "execution_count": 43,
     "metadata": {},
     "output_type": "execute_result"
    }
   ],
   "source": [
    "norm(A, ord=2), norm(A, ord=np.inf)"
   ]
  },
  {
   "cell_type": "markdown",
   "id": "e44be94a",
   "metadata": {},
   "source": [
    "**Упражнение 8.** Вычислите определитель матрицы $2A + E$, где A = np.array([[1,2,3], [4,5,6], [7,8,9]]) и E - еденичная матрица."
   ]
  },
  {
   "cell_type": "code",
   "execution_count": null,
   "id": "794bbb97",
   "metadata": {},
   "outputs": [],
   "source": []
  },
  {
   "cell_type": "markdown",
   "id": "383e7d66",
   "metadata": {},
   "source": [
    "### Функции оптимизации"
   ]
  },
  {
   "cell_type": "markdown",
   "id": "6ce13968",
   "metadata": {},
   "source": [
    "В scipy.optimize ереализовано несколько алгоритмов оптимизации. Детально вы их рассмотрите на следующих курсах, в частности на вычислительной математике. "
   ]
  },
  {
   "cell_type": "markdown",
   "id": "ae4d167b",
   "metadata": {},
   "source": [
    "Рассмотрим функцию от одной переменной и найдём её минимум."
   ]
  },
  {
   "cell_type": "code",
   "execution_count": 44,
   "id": "4b0717cb",
   "metadata": {},
   "outputs": [],
   "source": [
    "def f(x):\n",
    "    return 3*x**3 + (x-2)**2 + x**6 #+ np.cos(x)"
   ]
  },
  {
   "cell_type": "code",
   "execution_count": 45,
   "id": "5fec10ce",
   "metadata": {
    "scrolled": false
   },
   "outputs": [
    {
     "data": {
      "image/png": "[encoded data removed]",
      "text/plain": [
       "<Figure size 640x480 with 1 Axes>"
      ]
     },
     "metadata": {},
     "output_type": "display_data"
    }
   ],
   "source": [
    "fig, ax  = plt.subplots()\n",
    "x = np.linspace(-5, 3, 100)\n",
    "ax.plot(x, f(x));"
   ]
  },
  {
   "cell_type": "markdown",
   "id": "370aec21",
   "metadata": {},
   "source": [
    "Для нахождения минимума функции f(x) воспользуемся **fmin_bfgs**."
   ]
  },
  {
   "cell_type": "code",
   "execution_count": 46,
   "id": "dcdc0a69",
   "metadata": {},
   "outputs": [
    {
     "ename": "NameError",
     "evalue": "name 'optimize' is not defined",
     "output_type": "error",
     "traceback": [
      "\u001b[1;31m---------------------------------------------------------------------------\u001b[0m",
      "\u001b[1;31mNameError\u001b[0m                                 Traceback (most recent call last)",
      "\u001b[1;32m~\\AppData\\Local\\Temp\\ipykernel_3732\\2175042307.py\u001b[0m in \u001b[0;36m<module>\u001b[1;34m\u001b[0m\n\u001b[1;32m----> 1\u001b[1;33m \u001b[0mx_min\u001b[0m \u001b[1;33m=\u001b[0m \u001b[0moptimize\u001b[0m\u001b[1;33m.\u001b[0m\u001b[0mfmin_bfgs\u001b[0m\u001b[1;33m(\u001b[0m\u001b[0mf\u001b[0m\u001b[1;33m,\u001b[0m \u001b[1;33m-\u001b[0m\u001b[1;36m2\u001b[0m\u001b[1;33m)\u001b[0m\u001b[1;33m\u001b[0m\u001b[1;33m\u001b[0m\u001b[0m\n\u001b[0m\u001b[0;32m      2\u001b[0m \u001b[0mx_min\u001b[0m\u001b[1;33m\u001b[0m\u001b[1;33m\u001b[0m\u001b[0m\n",
      "\u001b[1;31mNameError\u001b[0m: name 'optimize' is not defined"
     ]
    }
   ],
   "source": [
    "x_min = optimize.fmin_bfgs(f, -2)\n",
    "x_min "
   ]
  },
  {
   "cell_type": "code",
   "execution_count": 47,
   "id": "1c8a0fdb",
   "metadata": {},
   "outputs": [
    {
     "ename": "NameError",
     "evalue": "name 'optimize' is not defined",
     "output_type": "error",
     "traceback": [
      "\u001b[1;31m---------------------------------------------------------------------------\u001b[0m",
      "\u001b[1;31mNameError\u001b[0m                                 Traceback (most recent call last)",
      "\u001b[1;32m~\\AppData\\Local\\Temp\\ipykernel_3732\\4265396769.py\u001b[0m in \u001b[0;36m<module>\u001b[1;34m\u001b[0m\n\u001b[0;32m      6\u001b[0m \u001b[0max\u001b[0m\u001b[1;33m.\u001b[0m\u001b[0mplot\u001b[0m\u001b[1;33m(\u001b[0m\u001b[0mx\u001b[0m\u001b[1;33m,\u001b[0m \u001b[0mf1\u001b[0m\u001b[1;33m(\u001b[0m\u001b[0mx\u001b[0m\u001b[1;33m)\u001b[0m\u001b[1;33m)\u001b[0m\u001b[1;33m;\u001b[0m\u001b[1;33m\u001b[0m\u001b[1;33m\u001b[0m\u001b[0m\n\u001b[0;32m      7\u001b[0m \u001b[1;33m\u001b[0m\u001b[0m\n\u001b[1;32m----> 8\u001b[1;33m \u001b[0mx_min\u001b[0m \u001b[1;33m=\u001b[0m \u001b[0moptimize\u001b[0m\u001b[1;33m.\u001b[0m\u001b[0mfmin_bfgs\u001b[0m\u001b[1;33m(\u001b[0m\u001b[0mf1\u001b[0m\u001b[1;33m,\u001b[0m \u001b[1;33m-\u001b[0m\u001b[1;36m2\u001b[0m\u001b[1;33m)\u001b[0m\u001b[1;33m\u001b[0m\u001b[1;33m\u001b[0m\u001b[0m\n\u001b[0m\u001b[0;32m      9\u001b[0m \u001b[0mx_min\u001b[0m\u001b[1;33m\u001b[0m\u001b[1;33m\u001b[0m\u001b[0m\n",
      "\u001b[1;31mNameError\u001b[0m: name 'optimize' is not defined"
     ]
    },
    {
     "data": {
      "image/png": "[encoded data removed]",
      "text/plain": [
       "<Figure size 640x480 with 1 Axes>"
      ]
     },
     "metadata": {},
     "output_type": "display_data"
    }
   ],
   "source": [
    "def f1(x):\n",
    "    return x**2\n",
    "\n",
    "fig, ax  = plt.subplots()\n",
    "x = np.linspace(-5, 5, 100)\n",
    "ax.plot(x, f1(x));\n",
    "\n",
    "x_min = optimize.fmin_bfgs(f1, -2)\n",
    "x_min "
   ]
  },
  {
   "cell_type": "markdown",
   "id": "75813557",
   "metadata": {},
   "source": [
    "**Упражнение 9.** Вычислите минимум функции $f(x) = x^2 + 10 \\cdot \\cos(x)\\cdot x$."
   ]
  },
  {
   "cell_type": "code",
   "execution_count": null,
   "id": "913b26a5",
   "metadata": {},
   "outputs": [],
   "source": []
  },
  {
   "cell_type": "markdown",
   "id": "69e5e659",
   "metadata": {},
   "source": [
    "### Функции интерполяции"
   ]
  },
  {
   "cell_type": "markdown",
   "id": "91d421ab",
   "metadata": {},
   "source": [
    "Библиотека SciPy включает подпакет scipy.interpolate, состоящий из сплайновых функций и классов, одно- и многомерных интерполяционных классов и так далее."
   ]
  },
  {
   "cell_type": "code",
   "execution_count": 48,
   "id": "9e631f33",
   "metadata": {},
   "outputs": [],
   "source": [
    "from scipy.interpolate import *"
   ]
  },
  {
   "cell_type": "code",
   "execution_count": 49,
   "id": "005e9dcf",
   "metadata": {},
   "outputs": [],
   "source": [
    "def f(x):\n",
    "    return np.sin(x) + 10"
   ]
  },
  {
   "cell_type": "code",
   "execution_count": 50,
   "id": "92d8cf07",
   "metadata": {},
   "outputs": [],
   "source": [
    "n = np.arange(0, 10)  \n",
    "x = np.linspace(0, 9, 100)\n",
    "\n",
    "y_meas = f(n) + 0.1 * np.random.randn(len(n)) # simulate measurement with noise\n",
    "y_real = f(x)\n",
    "\n",
    "linear_interpolation = interp1d(n, y_meas)\n",
    "y_interp1 = linear_interpolation(x)\n",
    "\n",
    "cubic_interpolation = interp1d(n, y_meas, kind='cubic')\n",
    "y_interp2 = cubic_interpolation(x)"
   ]
  },
  {
   "cell_type": "code",
   "execution_count": 51,
   "id": "0979a285",
   "metadata": {},
   "outputs": [
    {
     "data": {
      "image/png": "[encoded data removed]",
      "text/plain": [
       "<Figure size 1000x400 with 1 Axes>"
      ]
     },
     "metadata": {},
     "output_type": "display_data"
    }
   ],
   "source": [
    "fig, ax = plt.subplots(figsize=(10,4))\n",
    "ax.plot(n, y_meas, 'bs', label='noisy data')\n",
    "ax.plot(x, y_real, 'k', lw=2, label='true function')\n",
    "ax.plot(x, y_interp1, 'r', label='linear interp')\n",
    "ax.plot(x, y_interp2, 'g', label='cubic interp')\n",
    "ax.legend(loc=3);"
   ]
  },
  {
   "cell_type": "markdown",
   "id": "5fa84765",
   "metadata": {},
   "source": [
    "**Упражнение 10.** Постройте линейную и кубическую интерполяцию функции $f(x) = x^2 + 10x -5$"
   ]
  },
  {
   "cell_type": "code",
   "execution_count": null,
   "id": "38f95765",
   "metadata": {},
   "outputs": [],
   "source": []
  },
  {
   "cell_type": "markdown",
   "id": "37ac0d3e",
   "metadata": {},
   "source": [
    "**Упражнение 11.** Постройте линейную и кубическую интерполяцию функции $f(x) = \\cos(x) \\cdot sin(x) + x^2$"
   ]
  },
  {
   "cell_type": "code",
   "execution_count": null,
   "id": "a1692f07",
   "metadata": {},
   "outputs": [],
   "source": []
  },
  {
   "cell_type": "code",
   "execution_count": null,
   "id": "873bf13e",
   "metadata": {},
   "outputs": [],
   "source": []
  }
 ],
 "metadata": {
  "kernelspec": {
   "display_name": "Python 3 (ipykernel)",
   "language": "python",
   "name": "python3"
  },
  "language_info": {
   "codemirror_mode": {
    "name": "ipython",
    "version": 3
   },
   "file_extension": ".py",
   "mimetype": "text/x-python",
   "name": "python",
   "nbconvert_exporter": "python",
   "pygments_lexer": "ipython3",
   "version": "3.8.10"
  }
 },
 "nbformat": 4,
 "nbformat_minor": 5
}
