{
 "cells": [
  {
   "cell_type": "code",
   "execution_count": 2,
   "id": "cc9180a1",
   "metadata": {},
   "outputs": [
    {
     "ename": "SyntaxError",
     "evalue": "invalid syntax (856563619.py, line 1)",
     "output_type": "error",
     "traceback": [
      "\u001b[1;36m  Cell \u001b[1;32mIn[2], line 1\u001b[1;36m\u001b[0m\n\u001b[1;33m    - title: Занятие 5\u001b[0m\n\u001b[1;37m                     ^\u001b[0m\n\u001b[1;31mSyntaxError\u001b[0m\u001b[1;31m:\u001b[0m invalid syntax\n"
     ]
    }
   ],
   "source": [
    "- title: Занятие 5\n",
    "- author: Svetlana Medvedeva\n",
    "- date: 2023-09-29\n",
    "- slug: 2023_lpr_lab05\n",
    "- ipynb_url: download/2023_lpr_lab05.ipynb"
   ]
  },
  {
   "cell_type": "markdown",
   "id": "1bc1faf2",
   "metadata": {},
   "source": [
    "# Лабораторное занятие № 5"
   ]
  },
  {
   "cell_type": "markdown",
   "id": "720a6f9c",
   "metadata": {},
   "source": [
    "**NumPy** — это библиотека Python, которую применяют для математических вычислений: начиная с базовых функций и заканчивая линейной алгеброй. Полное название библиотеки — **Numerical Python extensions**, или **«Числовые расширения Python»**.\n",
    "\n",
    "Где используется NumPy"
   ]
  },
  {
   "cell_type": "markdown",
   "id": "cf5d0112",
   "metadata": {},
   "source": [
    "Библиотека NumPy используется:\n",
    "    \n",
    "* **Научные вычисления**\n",
    "\n",
    "NumPy хорошо зарекомендовавший себя инструмент для решения многомерных задач в математике и физике, биоинформатике, вычислительной химии и даже когнитивной психологии.\n",
    "\n",
    "* **Создание новых массивных библиотек**\n",
    "\n",
    "На основе NumPy появляются новые типы массивов, возможности которых выходят за рамки того, что предлагает библиотека. Например, библиотеки Dask, CuPy или XND.\n",
    "\n",
    "* **Data Science**\n",
    "\n",
    "В основе экосистемы для анализа данных лежит NumPy. Библиотека используется на всех этапах работы с данными: извлечение и преобразование, анализ, моделирование и оценка, репрезентация.\n",
    "\n",
    "* **Machine Learning**\n",
    "\n",
    "Библиотеки для машинного обучения scikit-learn и SciPy тоже работают благодаря вычислительным мощностям NumPy.\n",
    "\n",
    "* **Визуализация данных** \n",
    "\n",
    "По сравнению непосредственно с Python возможности NumPy позволяют исследователям визуализировать наборы данных, которые гораздо больше по размеру. Например, библиотека лежит в основе системы PyViz, которая включает в себя десятки программ для визуализации."
   ]
  },
  {
   "cell_type": "markdown",
   "id": "82387ce5",
   "metadata": {},
   "source": [
    "Основными объектами с которыми работает библиотека NumPy являются массивы. \n",
    "\n",
    "Массив Numpy — это многомерный массив (ndarray, n-dimensional array) данных, над которыми можно быстро и эффективно выполнять множество математических, статистических, логических и других операций.\n",
    "\n",
    "Массивы могут иметь различную размерность и всегда содержат объекты одного типа.\n",
    "Двумерный массив можно представить как таблицу где строки это первое измерение, а столбцы - второе. \n"
   ]
  },
  {
   "cell_type": "markdown",
   "id": "028b4a80",
   "metadata": {},
   "source": [
    "Массив можно создать через np.array() передав в качестве аргумента список из которого нужно создать массив. Если будет передан пустой список, то будет создан пустой массив."
   ]
  },
  {
   "cell_type": "code",
   "execution_count": 1,
   "id": "d6518c91",
   "metadata": {},
   "outputs": [],
   "source": [
    "import numpy as np\n",
    "import matplotlib.pyplot as plt"
   ]
  },
  {
   "cell_type": "code",
   "execution_count": 2,
   "id": "44c8c6d5",
   "metadata": {},
   "outputs": [],
   "source": [
    "arr = np.array([])"
   ]
  },
  {
   "cell_type": "code",
   "execution_count": 3,
   "id": "c7c8577e",
   "metadata": {},
   "outputs": [
    {
     "name": "stdout",
     "output_type": "stream",
     "text": [
      "<class 'numpy.ndarray'>\n",
      "[]\n"
     ]
    }
   ],
   "source": [
    "print(type(arr))\n",
    "print(arr)"
   ]
  },
  {
   "cell_type": "markdown",
   "id": "ffe224ae",
   "metadata": {},
   "source": [
    "Массив может быть нулевой размерности (это число (скаляр) и квадратных скобок не имеет)."
   ]
  },
  {
   "cell_type": "code",
   "execution_count": 4,
   "id": "18d55e8b",
   "metadata": {},
   "outputs": [
    {
     "data": {
      "text/plain": [
       "array(42)"
      ]
     },
     "execution_count": 4,
     "metadata": {},
     "output_type": "execute_result"
    }
   ],
   "source": [
    "arr_0D = np.array(42)\n",
    "arr_0D"
   ]
  },
  {
   "cell_type": "code",
   "execution_count": 5,
   "id": "09f48599",
   "metadata": {},
   "outputs": [
    {
     "name": "stdout",
     "output_type": "stream",
     "text": [
      "<class 'numpy.ndarray'>\n",
      "[0 1 2 3 4 5 6 7 8 9]\n"
     ]
    }
   ],
   "source": [
    "arr = np.array([i for i in range(10)])\n",
    "print(type(arr))\n",
    "print(arr)"
   ]
  },
  {
   "cell_type": "code",
   "execution_count": 6,
   "id": "ecf68f67",
   "metadata": {},
   "outputs": [
    {
     "data": {
      "text/plain": [
       "array([0, 1, 2, 3, 4, 5, 6, 7, 8, 9])"
      ]
     },
     "execution_count": 6,
     "metadata": {},
     "output_type": "execute_result"
    }
   ],
   "source": [
    "arr = np.array((0, 1, 2, 3, 4, 5, 6, 7, 8, 9))\n",
    "arr"
   ]
  },
  {
   "cell_type": "markdown",
   "id": "21427766",
   "metadata": {},
   "source": [
    "А вот создать массив по строке таким образом не получится."
   ]
  },
  {
   "cell_type": "code",
   "execution_count": 7,
   "id": "ecbe4372",
   "metadata": {},
   "outputs": [
    {
     "name": "stdout",
     "output_type": "stream",
     "text": [
      "<class 'numpy.ndarray'>\n",
      "18217492830924\n"
     ]
    },
    {
     "ename": "TypeError",
     "evalue": "len() of unsized object",
     "output_type": "error",
     "traceback": [
      "\u001b[1;31m---------------------------------------------------------------------------\u001b[0m",
      "\u001b[1;31mTypeError\u001b[0m                                 Traceback (most recent call last)",
      "\u001b[1;32mc:\\Users\\Program\\Documents\\pypython\\python_2023\\classwork05\\2023_lpr_lab05.ipynb Cell 15\u001b[0m line \u001b[0;36m4\n\u001b[0;32m      <a href='vscode-notebook-cell:/c%3A/Users/Program/Documents/pypython/python_2023/classwork05/2023_lpr_lab05.ipynb#X20sZmlsZQ%3D%3D?line=1'>2</a>\u001b[0m \u001b[39mprint\u001b[39m(\u001b[39mtype\u001b[39m(arr))\n\u001b[0;32m      <a href='vscode-notebook-cell:/c%3A/Users/Program/Documents/pypython/python_2023/classwork05/2023_lpr_lab05.ipynb#X20sZmlsZQ%3D%3D?line=2'>3</a>\u001b[0m \u001b[39mprint\u001b[39m(arr)\n\u001b[1;32m----> <a href='vscode-notebook-cell:/c%3A/Users/Program/Documents/pypython/python_2023/classwork05/2023_lpr_lab05.ipynb#X20sZmlsZQ%3D%3D?line=3'>4</a>\u001b[0m \u001b[39mprint\u001b[39m(\u001b[39mlen\u001b[39;49m(arr))\n",
      "\u001b[1;31mTypeError\u001b[0m: len() of unsized object"
     ]
    }
   ],
   "source": [
    "arr = np.array('18217492830924')\n",
    "print(type(arr))\n",
    "print(arr)\n",
    "print(len(arr))"
   ]
  },
  {
   "cell_type": "markdown",
   "id": "bd00a804",
   "metadata": {},
   "source": [
    "Другой вариант создание массива заключается в использовании функции np.arange(10). Эта функция имеет три параметра, как и функция range().\n",
    "Обязательным параметром является верхняя граница, которая не входит в последовательность."
   ]
  },
  {
   "cell_type": "code",
   "execution_count": 8,
   "id": "937cc40d",
   "metadata": {},
   "outputs": [
    {
     "data": {
      "text/plain": [
       "array([0, 1, 2, 3, 4, 5, 6, 7, 8, 9])"
      ]
     },
     "execution_count": 8,
     "metadata": {},
     "output_type": "execute_result"
    }
   ],
   "source": [
    "arr = np.arange(10)\n",
    "arr"
   ]
  },
  {
   "cell_type": "markdown",
   "id": "5d0b84fb",
   "metadata": {},
   "source": [
    "Различие range() и функции np.arange() состоит в том, что range() не допускает использования типа float."
   ]
  },
  {
   "cell_type": "markdown",
   "id": "5b7505ee",
   "metadata": {},
   "source": [
    "Тип элементов массива можно задать явным образом:"
   ]
  },
  {
   "cell_type": "code",
   "execution_count": 9,
   "id": "704d5598",
   "metadata": {},
   "outputs": [
    {
     "data": {
      "text/plain": [
       "array([ 0,  1,  2,  3,  4,  5,  6,  7,  8,  9, 10])"
      ]
     },
     "execution_count": 9,
     "metadata": {},
     "output_type": "execute_result"
    }
   ],
   "source": [
    "arr_i = np.array([0, 1, 2, 3, 4, 5, 6, 7, 8, 9, 10], int)\n",
    "arr_i"
   ]
  },
  {
   "cell_type": "code",
   "execution_count": 10,
   "id": "569c5eb5",
   "metadata": {},
   "outputs": [
    {
     "data": {
      "text/plain": [
       "array([ 0.,  1.,  2.,  3.,  4.,  5.,  6.,  7.,  8.,  9., 10.])"
      ]
     },
     "execution_count": 10,
     "metadata": {},
     "output_type": "execute_result"
    }
   ],
   "source": [
    "arr_f = np.array([0, 1, 2, 3, 4, 5, 6, 7, 8, 9, 10], float)\n",
    "arr_f"
   ]
  },
  {
   "cell_type": "code",
   "execution_count": 11,
   "id": "e2d9bcf5",
   "metadata": {},
   "outputs": [
    {
     "data": {
      "text/plain": [
       "array(['0', '1', '2', '3', '4', '5', '6', '7', '8', '9', '10'],\n",
       "      dtype='<U2')"
      ]
     },
     "execution_count": 11,
     "metadata": {},
     "output_type": "execute_result"
    }
   ],
   "source": [
    "arr_s = np.array([0, 1, 2, 3, 4, 5, 6, 7, 8, 9, 10], str)\n",
    "arr_s"
   ]
  },
  {
   "cell_type": "markdown",
   "id": "86953caf",
   "metadata": {},
   "source": [
    "### Свойства (атрибуты) массива"
   ]
  },
  {
   "cell_type": "markdown",
   "id": "10218ab6",
   "metadata": {},
   "source": [
    "Одним из свойств массива является количество его измерений - это атрибут ndim."
   ]
  },
  {
   "cell_type": "code",
   "execution_count": 12,
   "id": "72d5b7d2",
   "metadata": {},
   "outputs": [
    {
     "name": "stdout",
     "output_type": "stream",
     "text": [
      "[1 2 3 4 5]\n",
      "1\n"
     ]
    }
   ],
   "source": [
    "arr = np.array([1, 2, 3, 4, 5])\n",
    "print(arr)\n",
    "print(arr.ndim)"
   ]
  },
  {
   "cell_type": "markdown",
   "id": "f4456142",
   "metadata": {},
   "source": [
    "С помощью атрибута shape можно вывести количество элементов в каждом измерении."
   ]
  },
  {
   "cell_type": "code",
   "execution_count": 13,
   "id": "4f661021",
   "metadata": {},
   "outputs": [
    {
     "data": {
      "text/plain": [
       "(5,)"
      ]
     },
     "execution_count": 13,
     "metadata": {},
     "output_type": "execute_result"
    }
   ],
   "source": [
    "arr.shape"
   ]
  },
  {
   "cell_type": "markdown",
   "id": "f12543bf",
   "metadata": {},
   "source": [
    "Атрибут size выводит общее количество элементов во всех измерениях."
   ]
  },
  {
   "cell_type": "code",
   "execution_count": 14,
   "id": "1a07202d",
   "metadata": {},
   "outputs": [
    {
     "data": {
      "text/plain": [
       "5"
      ]
     },
     "execution_count": 14,
     "metadata": {},
     "output_type": "execute_result"
    }
   ],
   "source": [
    "arr.size"
   ]
  },
  {
   "cell_type": "markdown",
   "id": "a7d0ecc2",
   "metadata": {},
   "source": [
    "С помощью атрибута dtype можно вывести тип данных отдельного элемента."
   ]
  },
  {
   "cell_type": "code",
   "execution_count": 15,
   "id": "3278df68",
   "metadata": {},
   "outputs": [
    {
     "data": {
      "text/plain": [
       "dtype('int32')"
      ]
     },
     "execution_count": 15,
     "metadata": {},
     "output_type": "execute_result"
    }
   ],
   "source": [
    "arr.dtype"
   ]
  },
  {
   "cell_type": "markdown",
   "id": "5ad5b87c",
   "metadata": {},
   "source": [
    "Атрибут itemsize позволяет узнать размер в байтах (один байт состоит из 8 бит) одного элемента."
   ]
  },
  {
   "cell_type": "code",
   "execution_count": 16,
   "id": "12bb76c0",
   "metadata": {},
   "outputs": [
    {
     "data": {
      "text/plain": [
       "4"
      ]
     },
     "execution_count": 16,
     "metadata": {},
     "output_type": "execute_result"
    }
   ],
   "source": [
    "arr.itemsize"
   ]
  },
  {
   "cell_type": "markdown",
   "id": "06128ed7",
   "metadata": {},
   "source": [
    "Общий размер массива в байтах можно вывести через атрибут nbytes. "
   ]
  },
  {
   "cell_type": "code",
   "execution_count": 17,
   "id": "d06b4e73",
   "metadata": {},
   "outputs": [
    {
     "data": {
      "text/plain": [
       "20"
      ]
     },
     "execution_count": 17,
     "metadata": {},
     "output_type": "execute_result"
    }
   ],
   "source": [
    "arr.nbytes"
   ]
  },
  {
   "cell_type": "markdown",
   "id": "ca798f89",
   "metadata": {},
   "source": [
    "## Операции с массивами"
   ]
  },
  {
   "cell_type": "markdown",
   "id": "33248470",
   "metadata": {},
   "source": [
    "Нахождение `нормы` вектора:"
   ]
  },
  {
   "cell_type": "code",
   "execution_count": 18,
   "id": "960fd558",
   "metadata": {},
   "outputs": [
    {
     "name": "stdout",
     "output_type": "stream",
     "text": [
      "1.7320508075688772 1.7320508075688772\n"
     ]
    }
   ],
   "source": [
    "a = np.array([1.0, -1.0, 1.0])\n",
    "print(np.linalg.norm(a), 3 ** 0.5)\n"
   ]
  },
  {
   "cell_type": "markdown",
   "id": "5c307759",
   "metadata": {},
   "source": [
    "Есть поэлементное и скалярное произведение массивов:"
   ]
  },
  {
   "cell_type": "code",
   "execution_count": 19,
   "id": "0ebfe6b7",
   "metadata": {},
   "outputs": [
    {
     "name": "stdout",
     "output_type": "stream",
     "text": [
      "[ 1.  0. 20.]\n",
      "21.0\n"
     ]
    }
   ],
   "source": [
    "a = np.array([1.0, 0.0, 2.0])\n",
    "b = np.array([1.0, 15.0, 10.0])\n",
    "print(a * b)\n",
    "print(a @ b)"
   ]
  },
  {
   "cell_type": "markdown",
   "id": "7c536350",
   "metadata": {},
   "source": [
    "Операция `@` определена для матриц. Напомним, что матрицы размерами $n*k_1$ и $k_2*m$ можно перемножить тогда и только тогда, когда $k_1=k_2$. Метод `reshape` меняет форму и размерность массива, к которому он применяется. В скобках указываются размеры нового массива, при этом, можно указывать в качестве одного из аргументов `-1`. В этом случае размер этой оси будет рассчитан автоматически:"
   ]
  },
  {
   "cell_type": "code",
   "execution_count": 20,
   "id": "d4ddeae2",
   "metadata": {},
   "outputs": [
    {
     "name": "stdout",
     "output_type": "stream",
     "text": [
      "[[1.]\n",
      " [0.]\n",
      " [2.]]\n",
      "\n",
      "[[ 1.]\n",
      " [15.]\n",
      " [10.]]\n"
     ]
    }
   ],
   "source": [
    "a = np.array([1.0, 0.0, 2.0]).reshape(-1, 1)\n",
    "b = np.array([1.0, 15.0, 10.0]).reshape(-1, 1)\n",
    "print(a)\n",
    "print()\n",
    "print(b)"
   ]
  },
  {
   "cell_type": "code",
   "execution_count": 21,
   "id": "146bd163",
   "metadata": {},
   "outputs": [
    {
     "ename": "ValueError",
     "evalue": "matmul: Input operand 1 has a mismatch in its core dimension 0, with gufunc signature (n?,k),(k,m?)->(n?,m?) (size 3 is different from 1)",
     "output_type": "error",
     "traceback": [
      "\u001b[1;31m---------------------------------------------------------------------------\u001b[0m",
      "\u001b[1;31mValueError\u001b[0m                                Traceback (most recent call last)",
      "\u001b[1;32mc:\\Users\\Program\\Documents\\pypython\\python_2023\\classwork05\\2023_lpr_lab05.ipynb Cell 43\u001b[0m line \u001b[0;36m1\n\u001b[1;32m----> <a href='vscode-notebook-cell:/c%3A/Users/Program/Documents/pypython/python_2023/classwork05/2023_lpr_lab05.ipynb#X60sZmlsZQ%3D%3D?line=0'>1</a>\u001b[0m \u001b[39mprint\u001b[39m(a \u001b[39m@\u001b[39;49m b)\n",
      "\u001b[1;31mValueError\u001b[0m: matmul: Input operand 1 has a mismatch in its core dimension 0, with gufunc signature (n?,k),(k,m?)->(n?,m?) (size 3 is different from 1)"
     ]
    }
   ],
   "source": [
    "print(a @ b)"
   ]
  },
  {
   "cell_type": "markdown",
   "id": "a0732923",
   "metadata": {},
   "source": [
    "Получили ошибку, потому что пытались перемножить 2 матрицы $3*1$."
   ]
  },
  {
   "cell_type": "code",
   "execution_count": 22,
   "id": "8c279597",
   "metadata": {},
   "outputs": [
    {
     "name": "stdout",
     "output_type": "stream",
     "text": [
      "[[1. 0. 2.]]\n",
      "\n",
      "[[ 1.]\n",
      " [15.]\n",
      " [10.]]\n"
     ]
    }
   ],
   "source": [
    "a = np.array([1.0, 0.0, 2.0]).reshape(1, -1)\n",
    "b = np.array([1.0, 15.0, 10.0]).reshape(-1, 1)\n",
    "print(a)\n",
    "print()\n",
    "print(b)"
   ]
  },
  {
   "cell_type": "code",
   "execution_count": 23,
   "id": "46c61fee",
   "metadata": {},
   "outputs": [
    {
     "name": "stdout",
     "output_type": "stream",
     "text": [
      "[[21.]]\n"
     ]
    }
   ],
   "source": [
    "print(a @ b)"
   ]
  },
  {
   "cell_type": "markdown",
   "id": "2e306781",
   "metadata": {},
   "source": [
    "Получили двумерную матрицу размером $1*1$. Чтобы вытащить число, обратимся к нему по индексам:"
   ]
  },
  {
   "cell_type": "code",
   "execution_count": null,
   "id": "490579c4",
   "metadata": {},
   "outputs": [
    {
     "name": "stdout",
     "output_type": "stream",
     "text": [
      "21.0\n"
     ]
    }
   ],
   "source": [
    "print((a @ b)[0][0])"
   ]
  },
  {
   "cell_type": "markdown",
   "id": "f2c7beb6",
   "metadata": {},
   "source": [
    "**Упражнение 1.** Перемножить матрицы $A$ и $B$ двумя способами: с использованием numpy, затем без использования numpy."
   ]
  },
  {
   "cell_type": "code",
   "execution_count": 25,
   "id": "32fda35a",
   "metadata": {},
   "outputs": [],
   "source": [
    "A = np.array([[1.0, 2.0, 3.0],\n",
    "              [4.0, 5.0, 6.0]])\n",
    "B = np.array([[1.0, 0.0],\n",
    "              [0.0, 1.0],\n",
    "              [1.0, 1.0]])"
   ]
  },
  {
   "cell_type": "code",
   "execution_count": 26,
   "id": "35d89b3b",
   "metadata": {},
   "outputs": [
    {
     "name": "stdout",
     "output_type": "stream",
     "text": [
      "[[ 4.  5.]\n",
      " [10. 11.]]\n"
     ]
    }
   ],
   "source": [
    "print(A @ B)"
   ]
  },
  {
   "cell_type": "code",
   "execution_count": 29,
   "id": "1f05cd26",
   "metadata": {},
   "outputs": [
    {
     "name": "stdout",
     "output_type": "stream",
     "text": [
      "[[4.0, 5.0], [10.0, 11.0]]\n"
     ]
    }
   ],
   "source": [
    "ka, ma = A.shape\n",
    "kb, mb = B.shape\n",
    "C = [[0]*mb for i in range(ka)]\n",
    "for i in range(ka):\n",
    "    for j in range(mb):\n",
    "        C[i][j] = sum([A[i][k]*B[k][j] for k in range(ma)])\n",
    "\n",
    "print(C)\n"
   ]
  },
  {
   "cell_type": "markdown",
   "id": "a7bcb0e1",
   "metadata": {},
   "source": [
    "**Упражнение 2.** Найти косинус угла между векторами $a$ и $b$."
   ]
  },
  {
   "cell_type": "code",
   "execution_count": 33,
   "id": "3b4a580c",
   "metadata": {},
   "outputs": [],
   "source": [
    "a = np.array([1.0, 0.0, 2.0])\n",
    "b = np.array([1.0, 15.0, 10.0])"
   ]
  },
  {
   "cell_type": "code",
   "execution_count": 36,
   "id": "0d0101ef",
   "metadata": {},
   "outputs": [
    {
     "name": "stdout",
     "output_type": "stream",
     "text": [
      "0.5201462748489734\n"
     ]
    }
   ],
   "source": [
    "print((a@b)/np.linalg.norm(a)/np.linalg.norm(b))"
   ]
  },
  {
   "attachments": {
    "image.png": {
     "image/png": "[encoded data removed]"
    }
   },
   "cell_type": "markdown",
   "id": "e4038b56",
   "metadata": {},
   "source": [
    "Чтобы провести через набор экспериментальных точек наилучшую прямую, используются следующие формулы:![image.png](attachment:image.png)"
   ]
  },
  {
   "cell_type": "code",
   "execution_count": 40,
   "id": "d4727594",
   "metadata": {},
   "outputs": [
    {
     "name": "stdout",
     "output_type": "stream",
     "text": [
      "[0.         0.55555556 1.11111111 1.66666667 2.22222222 2.77777778\n",
      " 3.33333333 3.88888889 4.44444444 5.        ]\n",
      "[-5.         -3.88888889 -2.77777778 -1.66666667 -0.55555556  0.55555556\n",
      "  1.66666667  2.77777778  3.88888889  5.        ]\n"
     ]
    },
    {
     "data": {
      "text/plain": [
       "<matplotlib.collections.PathCollection at 0xc2b5370>"
      ]
     },
     "execution_count": 40,
     "metadata": {},
     "output_type": "execute_result"
    },
    {
     "data": {
      "image/png": "[encoded data removed]",
      "text/plain": [
       "<Figure size 640x480 with 1 Axes>"
      ]
     },
     "metadata": {},
     "output_type": "display_data"
    }
   ],
   "source": [
    "x = np.linspace(0.0, 5.0, 10)\n",
    "y = 2 * x - 5\n",
    "print(x)\n",
    "print(y)\n",
    "plt.scatter(x, y)"
   ]
  },
  {
   "cell_type": "markdown",
   "id": "d3fd7cb8",
   "metadata": {},
   "source": [
    "Добавим к данным шум. `np.random.randn(n)` вовзвращает `n` сэмплов из стандартного нормального распределения."
   ]
  },
  {
   "cell_type": "code",
   "execution_count": 41,
   "id": "bd7ee1e8",
   "metadata": {},
   "outputs": [
    {
     "name": "stdout",
     "output_type": "stream",
     "text": [
      "[ 0.53841405  0.81791722  0.34714892 -1.14374795 -0.27113712 -0.76177329\n",
      " -0.51379176 -1.00022077  2.33550463 -1.29126258]\n",
      "[ 0.10768281  0.16358344  0.06942978 -0.22874959 -0.05422742 -0.15235466\n",
      " -0.10275835 -0.20004415  0.46710093 -0.25825252]\n"
     ]
    }
   ],
   "source": [
    "eps = np.random.randn(y.shape[0])\n",
    "print(eps)\n",
    "print(eps * 0.2)"
   ]
  },
  {
   "cell_type": "code",
   "execution_count": 42,
   "id": "d4b8193f",
   "metadata": {},
   "outputs": [
    {
     "data": {
      "text/plain": [
       "<matplotlib.collections.PathCollection at 0xdda1718>"
      ]
     },
     "execution_count": 42,
     "metadata": {},
     "output_type": "execute_result"
    },
    {
     "data": {
      "image/png": "[encoded data removed]",
      "text/plain": [
       "<Figure size 640x480 with 1 Axes>"
      ]
     },
     "metadata": {},
     "output_type": "display_data"
    }
   ],
   "source": [
    "y = y + eps * 0.2\n",
    "plt.scatter(x, y)"
   ]
  },
  {
   "cell_type": "markdown",
   "id": "74cb0420",
   "metadata": {},
   "source": [
    "**Упражнение 3.** Найти и нарисовать наилучшую прямую для x, y из предыдущей ячейки."
   ]
  },
  {
   "cell_type": "code",
   "execution_count": 46,
   "id": "c3556bc4",
   "metadata": {},
   "outputs": [
    {
     "data": {
      "image/png": "[encoded data removed]",
      "text/plain": [
       "<Figure size 640x480 with 1 Axes>"
      ]
     },
     "metadata": {},
     "output_type": "display_data"
    }
   ],
   "source": [
    "import statistics as st\n",
    "k = (st.mean(x*y) - st.mean(x)*st.mean(y))/(st.mean(x*x)-(st.mean(x))**2)\n",
    "b = st.mean(y) - k * st.mean(x)\n",
    "plt.scatter(x,y)\n",
    "plt.axline([0, b], slope=k)\n",
    "plt.show()"
   ]
  },
  {
   "cell_type": "markdown",
   "id": "b4f433a8",
   "metadata": {},
   "source": [
    "Библиотеку `numpy` удобно использовать для решения систем линейных уравнений. Если система уравнений $Ax=y$ имеет решение, и при этом только одно, то оно выражается как $x=A^{-1} y$. Для обращения матрицы используется функция `np.linalg.inv`. Рассмотрим систему уравнений:\n",
    "$$\n",
    "\\left\\{ \n",
    "\\begin{array}{c}\n",
    "y+3z=-1 \\\\ \n",
    "2x+3y+5z=3 \\\\ \n",
    "3x+5y+7z=6\n",
    "\\end{array}\n",
    "\\right. \n",
    "$$"
   ]
  },
  {
   "cell_type": "code",
   "execution_count": 47,
   "id": "0074699f",
   "metadata": {
    "scrolled": true
   },
   "outputs": [
    {
     "name": "stdout",
     "output_type": "stream",
     "text": [
      "[ 1.  2. -1.]\n"
     ]
    }
   ],
   "source": [
    "A = np.array([[0.0, 1.0, 3.0],\n",
    "              [2.0, 3.0, 5.0],\n",
    "              [3.0, 5.0, 7.0]])\n",
    "y = np.array([-1.0, 3.0, 6.0])\n",
    "print(np.linalg.inv(A) @ y)"
   ]
  },
  {
   "cell_type": "markdown",
   "id": "be7ab49a",
   "metadata": {},
   "source": [
    "**Упражнение 4.** Решить систему уравнений:\n",
    "$$\n",
    "\\left\\{ \n",
    "\\begin{array}{c}\n",
    "2x+3y+4z+5t=30 \\\\ \n",
    "3x+3y+4z+5t=34 \\\\ \n",
    "4x+4y+4z+5t=41 \\\\\n",
    "x+y+z+t=10\n",
    "\\end{array}\n",
    "\\right. \n",
    "$$"
   ]
  },
  {
   "cell_type": "code",
   "execution_count": 48,
   "id": "602aae2f",
   "metadata": {},
   "outputs": [
    {
     "name": "stdout",
     "output_type": "stream",
     "text": [
      "[4. 3. 2. 1.]\n"
     ]
    }
   ],
   "source": [
    "A = np.array([[2.0, 3.0, 4.0, 5.0],\n",
    "              [3.0, 3.0, 4.0, 5.0],\n",
    "              [4.0, 4.0, 4.0, 5.0], \n",
    "              [1.0, 1.0, 1.0, 1.0]])\n",
    "y = np.array([30.0, 34.0, 41.0, 10.0])\n",
    "print(np.linalg.inv(A) @ y)"
   ]
  },
  {
   "cell_type": "markdown",
   "id": "1ff8809d",
   "metadata": {},
   "source": [
    "## Другие функции и особенности numpy"
   ]
  },
  {
   "cell_type": "code",
   "execution_count": 49,
   "id": "3c763be9",
   "metadata": {},
   "outputs": [
    {
     "name": "stdout",
     "output_type": "stream",
     "text": [
      "[ True False False]\n",
      "True\n",
      "False\n"
     ]
    }
   ],
   "source": [
    "a = np.array([1.0, 2.0, 3.0])\n",
    "b = np.array([1.0, 1.0, 1.0])\n",
    "print(a == b)\n",
    "print((a == b).any())\n",
    "print((a == b).all())"
   ]
  },
  {
   "cell_type": "markdown",
   "id": "0114a22f",
   "metadata": {},
   "source": [
    "Отсюда возникает следующая ситуация: в условной конструкции `if`, а также в цикле `while` в условии нужно указывать `any` или `all`."
   ]
  },
  {
   "cell_type": "code",
   "execution_count": 50,
   "id": "45aca54e",
   "metadata": {},
   "outputs": [
    {
     "name": "stdout",
     "output_type": "stream",
     "text": [
      "[[1. 1.]]\n"
     ]
    },
    {
     "ename": "ValueError",
     "evalue": "The truth value of an array with more than one element is ambiguous. Use a.any() or a.all()",
     "output_type": "error",
     "traceback": [
      "\u001b[1;31m---------------------------------------------------------------------------\u001b[0m",
      "\u001b[1;31mValueError\u001b[0m                                Traceback (most recent call last)",
      "\u001b[1;32mc:\\Users\\Program\\Documents\\pypython\\python_2023\\classwork05\\2023_lpr_lab05.ipynb Cell 70\u001b[0m line \u001b[0;36m4\n\u001b[0;32m      <a href='vscode-notebook-cell:/c%3A/Users/Program/Documents/pypython/python_2023/classwork05/2023_lpr_lab05.ipynb#Y126sZmlsZQ%3D%3D?line=1'>2</a>\u001b[0m b \u001b[39m=\u001b[39m a\n\u001b[0;32m      <a href='vscode-notebook-cell:/c%3A/Users/Program/Documents/pypython/python_2023/classwork05/2023_lpr_lab05.ipynb#Y126sZmlsZQ%3D%3D?line=2'>3</a>\u001b[0m \u001b[39mprint\u001b[39m(a)\n\u001b[1;32m----> <a href='vscode-notebook-cell:/c%3A/Users/Program/Documents/pypython/python_2023/classwork05/2023_lpr_lab05.ipynb#Y126sZmlsZQ%3D%3D?line=3'>4</a>\u001b[0m \u001b[39mif\u001b[39;00m a \u001b[39m==\u001b[39;49m b:\n\u001b[0;32m      <a href='vscode-notebook-cell:/c%3A/Users/Program/Documents/pypython/python_2023/classwork05/2023_lpr_lab05.ipynb#Y126sZmlsZQ%3D%3D?line=4'>5</a>\u001b[0m     \u001b[39mprint\u001b[39m(\u001b[39m1\u001b[39m)\n",
      "\u001b[1;31mValueError\u001b[0m: The truth value of an array with more than one element is ambiguous. Use a.any() or a.all()"
     ]
    }
   ],
   "source": [
    "a = np.ones((1, 2))\n",
    "b = a\n",
    "print(a)\n",
    "if a == b:\n",
    "    print(1)"
   ]
  },
  {
   "cell_type": "code",
   "execution_count": 51,
   "id": "f6d3abda",
   "metadata": {},
   "outputs": [
    {
     "name": "stdout",
     "output_type": "stream",
     "text": [
      "1\n"
     ]
    }
   ],
   "source": [
    "a = np.ones((1, 2))\n",
    "b = a\n",
    "if (a == b).all():\n",
    "    print(1)"
   ]
  },
  {
   "cell_type": "markdown",
   "id": "b65b8eb6",
   "metadata": {},
   "source": [
    "Функции `zeros`, `ones` используются для создания массивов заданного размера, заполненных нулями или единицами. Выше при рисовании графика для создания массива x была использована функция `linspace(a, b, n)`, которая создает массив n чисел от a до b, упорядоченных по возрастанию с равными интервалами. Существуют также функции для агрегации (`all` и `any` тоже относятся к ним):"
   ]
  },
  {
   "cell_type": "code",
   "execution_count": null,
   "id": "8205f3f7",
   "metadata": {},
   "outputs": [
    {
     "name": "stdout",
     "output_type": "stream",
     "text": [
      "21.0\n",
      "3.0\n",
      "1.4285714285714286\n",
      "1.1952286093343936\n",
      "5.0\n",
      "1.0\n"
     ]
    }
   ],
   "source": [
    "a = np.array([1.0, 2.0, 3.0, 3.0, 3.0, 4.0, 5.0])\n",
    "print(a.sum())\n",
    "print(a.mean())\n",
    "print(a.var())\n",
    "print(a.std())\n",
    "print(a.max())\n",
    "print(a.min())"
   ]
  },
  {
   "cell_type": "markdown",
   "id": "d214ffc7",
   "metadata": {},
   "source": [
    "Можно делать срезы и свертку по осям:"
   ]
  },
  {
   "cell_type": "code",
   "execution_count": null,
   "id": "8c945965",
   "metadata": {},
   "outputs": [
    {
     "name": "stdout",
     "output_type": "stream",
     "text": [
      "[[1. 2.]\n",
      " [1. 2.]]\n"
     ]
    }
   ],
   "source": [
    "a = np.array([[1.0, 2.0, 3.0, 3.0, 3.0, 4.0, 5.0],\n",
    "              [1.0, 2.0, 3.0, 3.0, 3.0, 4.0, 5.0],\n",
    "              [1.0, 2.0, 3.0, 3.0, 3.0, 4.0, 5.0]])\n",
    "print(a[:2,:2])"
   ]
  },
  {
   "cell_type": "code",
   "execution_count": null,
   "id": "7802f5ac",
   "metadata": {},
   "outputs": [
    {
     "name": "stdout",
     "output_type": "stream",
     "text": [
      "[[1. 2. 3. 3.]\n",
      " [1. 2. 3. 3.]\n",
      " [1. 2. 3. 3.]]\n"
     ]
    }
   ],
   "source": [
    "print(a[:,:4])"
   ]
  },
  {
   "cell_type": "code",
   "execution_count": null,
   "id": "1ff36d51",
   "metadata": {},
   "outputs": [
    {
     "name": "stdout",
     "output_type": "stream",
     "text": [
      "[[1. 2. 3. 3. 3. 4. 5.]\n",
      " [1. 2. 3. 3. 3. 4. 5.]]\n"
     ]
    }
   ],
   "source": [
    "print(a[1:,:])"
   ]
  },
  {
   "cell_type": "code",
   "execution_count": 52,
   "id": "76c4a275",
   "metadata": {},
   "outputs": [
    {
     "name": "stdout",
     "output_type": "stream",
     "text": [
      "21.0 21.0\n",
      "[5. 7. 9.]\n",
      "[ 6. 15.]\n",
      "6.0 6.0\n",
      "[4. 5. 6.]\n",
      "[3. 6.]\n"
     ]
    }
   ],
   "source": [
    "a = np.array([[1.0, 2.0, 3.0],\n",
    "              [4.0, 5.0, 6.0]])\n",
    "print(a.sum(), np.sum(a))\n",
    "print(np.sum(a, axis=0))\n",
    "print(np.sum(a, axis=1))\n",
    "print(a.max(), np.max(a))\n",
    "print(np.max(a, axis=0))\n",
    "print(np.max(a, axis=1))"
   ]
  },
  {
   "cell_type": "code",
   "execution_count": null,
   "id": "82513efe",
   "metadata": {},
   "outputs": [],
   "source": []
  },
  {
   "cell_type": "markdown",
   "id": "f490ee6b",
   "metadata": {},
   "source": [
    "**Упражнение 5.** \n",
    "1. Создать матрицу случайных чисел $3*5$ из стандартного нормального распределения. \n",
    "2. Среди наибольших элементов в столбцах найти наименьший.\n",
    "3. Умножить эту матрицу на себя транспонированную.\n",
    "4. Найти стандартное отклонение по строкам, по столбцам и по всей матрице.\n",
    "5. Для разных размеров таких матриц посмотреть, как будет меняться std по всей матрице в зависимости от ее размеров. Можно рассмотреть квадратные матрицы $n*n$, где n будет равномерно расти от 10 до 1010. Использовать `linspace` для `n`, построить график."
   ]
  },
  {
   "cell_type": "code",
   "execution_count": 58,
   "id": "fe727a46",
   "metadata": {},
   "outputs": [
    {
     "data": {
      "image/png": "[encoded data removed]",
      "text/plain": [
       "<Figure size 640x480 with 1 Axes>"
      ]
     },
     "metadata": {},
     "output_type": "display_data"
    }
   ],
   "source": [
    "a = np.array([])\n",
    "x = np.linspace(10, 1010, dtype='int')\n",
    "for i, n in enumerate(x):\n",
    "    b = np.random.randn(n, n)\n",
    "    x0 = min(np.max(b, axis=0))\n",
    "    c = b * np.transpose(b)\n",
    "    x1, x2, x3 = np.std(c, axis=1), np.std(c, axis=0), np.std(c)\n",
    "    a = np.append(a, b.std())\n",
    "plt.scatter(x, a)\n",
    "plt.title('Стандартное отклонение для выборки из n случайных чисел')\n",
    "plt.ylabel('Стандартное отклонение')\n",
    "plt.xlabel('n - размер выборки');"
   ]
  },
  {
   "cell_type": "code",
   "execution_count": null,
   "id": "d3c3ffea",
   "metadata": {},
   "outputs": [],
   "source": []
  },
  {
   "cell_type": "markdown",
   "id": "55f830f6",
   "metadata": {},
   "source": [
    "# Векторизация"
   ]
  },
  {
   "cell_type": "code",
   "execution_count": 60,
   "id": "3661378f",
   "metadata": {},
   "outputs": [
    {
     "name": "stdout",
     "output_type": "stream",
     "text": [
      "[1. 4. 9.]\n"
     ]
    }
   ],
   "source": [
    "def f(x):\n",
    "      return x ** 2\n",
    "a = np.array([1.0, 2.0, 3.0])\n",
    "print(np.vectorize(f)(a))"
   ]
  },
  {
   "cell_type": "code",
   "execution_count": 61,
   "id": "9b446ace",
   "metadata": {},
   "outputs": [
    {
     "name": "stdout",
     "output_type": "stream",
     "text": [
      "[ 1. 16. 81.]\n"
     ]
    }
   ],
   "source": [
    "print(np.vectorize(f)(np.vectorize(f)(a)))"
   ]
  },
  {
   "cell_type": "code",
   "execution_count": 62,
   "id": "f8d396b1",
   "metadata": {},
   "outputs": [
    {
     "name": "stdout",
     "output_type": "stream",
     "text": [
      "[ 1. 16. 81.]\n"
     ]
    }
   ],
   "source": [
    "f1 = np.vectorize(f)\n",
    "print(f1(f1(a)))"
   ]
  },
  {
   "cell_type": "markdown",
   "id": "6873b948",
   "metadata": {},
   "source": [
    "**Упражнение 6.** На основе массивов a и b с помощью функции `vectorize` создайте массив, каждый элемент которого - минимальный по модулю из соответствующих элементов a и b."
   ]
  },
  {
   "cell_type": "code",
   "execution_count": 67,
   "id": "d2a4fe79",
   "metadata": {},
   "outputs": [
    {
     "name": "stdout",
     "output_type": "stream",
     "text": [
      "[ 1.  -1.5 -3. ]\n"
     ]
    }
   ],
   "source": [
    "def f(a, b):\n",
    "    if abs(a) < abs(b):\n",
    "        return a \n",
    "    else:\n",
    "        return b\n",
    "a = np.array([1.0, 2.0, -3.0])\n",
    "b = np.array([-3.0, -1.5, 3.5])\n",
    "f2 = np.vectorize(f)\n",
    "print(f2(a, b))"
   ]
  },
  {
   "cell_type": "markdown",
   "id": "5eb96bfd",
   "metadata": {},
   "source": [
    "## Логические матрицы"
   ]
  },
  {
   "cell_type": "code",
   "execution_count": null,
   "id": "2353a802",
   "metadata": {},
   "outputs": [
    {
     "name": "stdout",
     "output_type": "stream",
     "text": [
      "[1.]\n",
      "[2. 3.]\n"
     ]
    }
   ],
   "source": [
    "a = np.array([1.0, 2.0, 3.0])\n",
    "print(a[a < 2])\n",
    "print(a[a >= 2])"
   ]
  },
  {
   "cell_type": "code",
   "execution_count": null,
   "id": "756ad588",
   "metadata": {},
   "outputs": [
    {
     "name": "stdout",
     "output_type": "stream",
     "text": [
      "[0. 2. 3.]\n"
     ]
    }
   ],
   "source": [
    "a[a < 2] = 0\n",
    "print(a)"
   ]
  },
  {
   "cell_type": "code",
   "execution_count": null,
   "id": "1aafaa54",
   "metadata": {},
   "outputs": [
    {
     "name": "stdout",
     "output_type": "stream",
     "text": [
      "[1.5 3. ]\n"
     ]
    }
   ],
   "source": [
    "a = np.array([1.0, 2.0, 3.0])\n",
    "b = np.array([1.5, 3.0, 3.0])\n",
    "print(b[a <= 2])"
   ]
  },
  {
   "cell_type": "markdown",
   "id": "7250f75a",
   "metadata": {},
   "source": [
    "**Упражнение 7.** Умножить матрицу A на себя транспонированную. В исходной матрице обнулить те элементы, которые больше, чем элементы в полученной матрице, стоящие на тех же местах."
   ]
  },
  {
   "cell_type": "code",
   "execution_count": null,
   "id": "6ebe1940",
   "metadata": {},
   "outputs": [],
   "source": []
  },
  {
   "cell_type": "code",
   "execution_count": 70,
   "id": "ec2dce26",
   "metadata": {},
   "outputs": [
    {
     "name": "stdout",
     "output_type": "stream",
     "text": [
      "[[ 1.25   -0.625 ]\n",
      " [-0.625   0.3125]]\n",
      "[[1.   0.  ]\n",
      " [0.   0.25]]\n"
     ]
    }
   ],
   "source": [
    "A = np.array([[1.0, -0.5],\n",
    "              [-0.5, 0.25]])\n",
    "              \n",
    "B = A @ A.T\n",
    "print(B)\n",
    "A[A>B] = 0\n",
    "print(A)"
   ]
  },
  {
   "cell_type": "markdown",
   "id": "3c464560",
   "metadata": {},
   "source": [
    "Часто используется также функция `np.where`. У нее 3 аргумента - условие, значение элемента, если условие выполняется и значение элемента, если условие не выполняется."
   ]
  },
  {
   "cell_type": "code",
   "execution_count": 106,
   "id": "010bd7cb",
   "metadata": {},
   "outputs": [
    {
     "name": "stdout",
     "output_type": "stream",
     "text": [
      "[-1.  0.  0. -4.  0.]\n"
     ]
    }
   ],
   "source": [
    "a = np.array([-1.0, 2.0, 3.0, -4.0, 5.0])\n",
    "print(np.where(a < 0, a, 0))"
   ]
  },
  {
   "cell_type": "code",
   "execution_count": null,
   "id": "1582fa7e",
   "metadata": {},
   "outputs": [
    {
     "name": "stdout",
     "output_type": "stream",
     "text": [
      "[ 0.  0.  0. -4.  0.]\n"
     ]
    }
   ],
   "source": [
    "a = np.array([-1.0, 2.0, 3.0, -4.0, 5.0])\n",
    "print(np.where((a < 0) & (a % 2 == 0), a, 0))"
   ]
  },
  {
   "cell_type": "code",
   "execution_count": null,
   "id": "6b6e555f",
   "metadata": {},
   "outputs": [
    {
     "data": {
      "text/plain": [
       "array([-4.])"
      ]
     },
     "execution_count": 14,
     "metadata": {},
     "output_type": "execute_result"
    }
   ],
   "source": [
    "a = np.array([-1.0, 2.0, 3.0, -4.0, 5.0])\n",
    "a[(a < 0) & (a % 2 == 0)]"
   ]
  },
  {
   "cell_type": "markdown",
   "id": "c746db44",
   "metadata": {},
   "source": [
    "**Упражнение 8.** С помощью `linspace` создать массив из натуральных чисел от 1 до 31. Из него удалить те элементы, которые не делятся на 3. Среди оставшихся обнулить те, которые не делятся на 9."
   ]
  },
  {
   "cell_type": "code",
   "execution_count": 76,
   "id": "9288aaf1",
   "metadata": {},
   "outputs": [
    {
     "data": {
      "text/plain": [
       "array([ 0.,  0.,  9.,  0.,  0., 18.,  0.,  0., 27.,  0.])"
      ]
     },
     "execution_count": 76,
     "metadata": {},
     "output_type": "execute_result"
    }
   ],
   "source": [
    "a = np.linspace(1, 31, 31)\n",
    "b = a[a % 3 == 0]\n",
    "b = np.where(b % 9 == 0, b, 0)\n",
    "b"
   ]
  },
  {
   "cell_type": "markdown",
   "id": "50ee622d",
   "metadata": {},
   "source": [
    "### Создание массива из функции индексов"
   ]
  },
  {
   "cell_type": "code",
   "execution_count": null,
   "id": "d2535955",
   "metadata": {},
   "outputs": [
    {
     "data": {
      "text/plain": [
       "array([[0, 1, 2],\n",
       "       [1, 2, 3],\n",
       "       [2, 3, 4]])"
      ]
     },
     "execution_count": 15,
     "metadata": {},
     "output_type": "execute_result"
    }
   ],
   "source": [
    "np.fromfunction(lambda i, j: i + j, (3, 3), dtype=int)"
   ]
  },
  {
   "cell_type": "code",
   "execution_count": null,
   "id": "06f62f20",
   "metadata": {},
   "outputs": [
    {
     "data": {
      "text/plain": [
       "array([[0, 0, 0],\n",
       "       [1, 1, 1],\n",
       "       [2, 2, 2]])"
      ]
     },
     "execution_count": 16,
     "metadata": {},
     "output_type": "execute_result"
    }
   ],
   "source": [
    "np.fromfunction(lambda i, j: i, (3, 3), dtype=int)"
   ]
  },
  {
   "cell_type": "code",
   "execution_count": 81,
   "id": "bb9adf41",
   "metadata": {},
   "outputs": [
    {
     "data": {
      "text/plain": [
       "array([[0, 1, 2],\n",
       "       [0, 1, 2],\n",
       "       [0, 1, 2]])"
      ]
     },
     "execution_count": 81,
     "metadata": {},
     "output_type": "execute_result"
    }
   ],
   "source": [
    "np.fromfunction(lambda i, j: j, (3, 3), dtype=int)"
   ]
  },
  {
   "cell_type": "markdown",
   "id": "d936b7cb",
   "metadata": {},
   "source": [
    "**Упражнение 9.** Создать с помощью `fromfunction` единичную матрицу."
   ]
  },
  {
   "cell_type": "code",
   "execution_count": 99,
   "id": "8b4eec92",
   "metadata": {},
   "outputs": [
    {
     "data": {
      "text/plain": [
       "array([[1, 0, 0, 0, 0],\n",
       "       [0, 1, 0, 0, 0],\n",
       "       [0, 0, 1, 0, 0],\n",
       "       [0, 0, 0, 1, 0],\n",
       "       [0, 0, 0, 0, 1]])"
      ]
     },
     "execution_count": 99,
     "metadata": {},
     "output_type": "execute_result"
    }
   ],
   "source": [
    "np.fromfunction(lambda i, j: np.vectorize(lambda x: int(x))(i == j), (5, 5), dtype=int)"
   ]
  },
  {
   "cell_type": "markdown",
   "id": "ec53edeb",
   "metadata": {},
   "source": [
    "**Упражнение 10.** Дан массив (числа от -100 до 100), поменять знак у элементов, значения которых между 1 и 10."
   ]
  },
  {
   "cell_type": "code",
   "execution_count": 109,
   "id": "157464ff",
   "metadata": {},
   "outputs": [
    {
     "data": {
      "text/plain": [
       "array([-100.,  -99.,  -98.,  -97.,  -96.,  -95.,  -94.,  -93.,  -92.,\n",
       "        -91.,  -90.,  -89.,  -88.,  -87.,  -86.,  -85.,  -84.,  -83.,\n",
       "        -82.,  -81.,  -80.,  -79.,  -78.,  -77.,  -76.,  -75.,  -74.,\n",
       "        -73.,  -72.,  -71.,  -70.,  -69.,  -68.,  -67.,  -66.,  -65.,\n",
       "        -64.,  -63.,  -62.,  -61.,  -60.,  -59.,  -58.,  -57.,  -56.,\n",
       "        -55.,  -54.,  -53.,  -52.,  -51.,  -50.,  -49.,  -48.,  -47.,\n",
       "        -46.,  -45.,  -44.,  -43.,  -42.,  -41.,  -40.,  -39.,  -38.,\n",
       "        -37.,  -36.,  -35.,  -34.,  -33.,  -32.,  -31.,  -30.,  -29.,\n",
       "        -28.,  -27.,  -26.,  -25.,  -24.,  -23.,  -22.,  -21.,  -20.,\n",
       "        -19.,  -18.,  -17.,  -16.,  -15.,  -14.,  -13.,  -12.,  -11.,\n",
       "        -10.,   -9.,   -8.,   -7.,   -6.,   -5.,   -4.,   -3.,   -2.,\n",
       "         -1.,    0.,   -1.,   -2.,   -3.,   -4.,   -5.,   -6.,   -7.,\n",
       "         -8.,   -9.,  -10.,   11.,   12.,   13.,   14.,   15.,   16.,\n",
       "         17.,   18.,   19.,   20.,   21.,   22.,   23.,   24.,   25.,\n",
       "         26.,   27.,   28.,   29.,   30.,   31.,   32.,   33.,   34.,\n",
       "         35.,   36.,   37.,   38.,   39.,   40.,   41.,   42.,   43.,\n",
       "         44.,   45.,   46.,   47.,   48.,   49.,   50.,   51.,   52.,\n",
       "         53.,   54.,   55.,   56.,   57.,   58.,   59.,   60.,   61.,\n",
       "         62.,   63.,   64.,   65.,   66.,   67.,   68.,   69.,   70.,\n",
       "         71.,   72.,   73.,   74.,   75.,   76.,   77.,   78.,   79.,\n",
       "         80.,   81.,   82.,   83.,   84.,   85.,   86.,   87.,   88.,\n",
       "         89.,   90.,   91.,   92.,   93.,   94.,   95.,   96.,   97.,\n",
       "         98.,   99.,  100.])"
      ]
     },
     "execution_count": 109,
     "metadata": {},
     "output_type": "execute_result"
    }
   ],
   "source": [
    "a = np.linspace(-100, 100, 201)\n",
    "a = np.where((a > 0) & (a < 11), -a, a)"
   ]
  },
  {
   "cell_type": "markdown",
   "id": "49bb5ae5",
   "metadata": {},
   "source": [
    "**Упражнение 11.** С клавиатуры введены элементы двух массивов. В одной строке вводится один массив. Проверить, одинаковы ли 2 numpy массива."
   ]
  },
  {
   "cell_type": "code",
   "execution_count": 120,
   "id": "e7b533b9",
   "metadata": {},
   "outputs": [
    {
     "name": "stdout",
     "output_type": "stream",
     "text": [
      "True\n"
     ]
    }
   ],
   "source": [
    "a = np.array(list(map(int, input().split())))\n",
    "b = np.array(list(map(int, input().split())))\n",
    "print((a==b).all())\n",
    "\n"
   ]
  },
  {
   "cell_type": "markdown",
   "id": "c03e68e5",
   "metadata": {},
   "source": [
    "**Упражнение 12.** Сделать массив неизменяемым (для этого потребуется посмотреть документацию)."
   ]
  },
  {
   "cell_type": "code",
   "execution_count": 124,
   "id": "0c39b591",
   "metadata": {},
   "outputs": [],
   "source": [
    "a = np.linspace(1, 50)\n",
    "a.setflags(write=False)\n",
    "#a[0] = 5"
   ]
  },
  {
   "cell_type": "markdown",
   "id": "43c4862e",
   "metadata": {},
   "source": [
    "**Упражнение 13.** Определить, есть ли в 2D массиве нулевые столбцы."
   ]
  },
  {
   "cell_type": "code",
   "execution_count": 129,
   "id": "0b8bac87",
   "metadata": {},
   "outputs": [
    {
     "name": "stdout",
     "output_type": "stream",
     "text": [
      "False\n"
     ]
    }
   ],
   "source": [
    "A = np.array([[2.0, 3.0, 4.0, 5.0],\n",
    "              [3.0, 3.0, 4.0, 5.0],\n",
    "              [4.0, 4.0, 4.0, 5.0], \n",
    "              [1.0, 1.0, 1.0, 1.0]])\n",
    "B = np.linalg.norm(A, axis=0)\n",
    "print(B.any() == 0)"
   ]
  },
  {
   "cell_type": "markdown",
   "id": "c1e49753",
   "metadata": {},
   "source": [
    "**Упражнение 14.** Найти наиболее частое значение в массиве."
   ]
  },
  {
   "cell_type": "code",
   "execution_count": 131,
   "id": "9585ed18",
   "metadata": {},
   "outputs": [
    {
     "ename": "TypeError",
     "evalue": "unhashable type: 'numpy.ndarray'",
     "output_type": "error",
     "traceback": [
      "\u001b[1;31m---------------------------------------------------------------------------\u001b[0m",
      "\u001b[1;31mTypeError\u001b[0m                                 Traceback (most recent call last)",
      "\u001b[1;32mc:\\Users\\Program\\Documents\\pypython\\python_2023\\classwork05\\2023_lpr_lab05.ipynb Cell 117\u001b[0m line \u001b[0;36m6\n\u001b[0;32m      <a href='vscode-notebook-cell:/c%3A/Users/Program/Documents/pypython/python_2023/classwork05/2023_lpr_lab05.ipynb#Y224sZmlsZQ%3D%3D?line=0'>1</a>\u001b[0m \u001b[39mimport\u001b[39;00m \u001b[39mstatistics\u001b[39;00m \u001b[39mas\u001b[39;00m \u001b[39mst\u001b[39;00m\n\u001b[0;32m      <a href='vscode-notebook-cell:/c%3A/Users/Program/Documents/pypython/python_2023/classwork05/2023_lpr_lab05.ipynb#Y224sZmlsZQ%3D%3D?line=1'>2</a>\u001b[0m A \u001b[39m=\u001b[39m np\u001b[39m.\u001b[39marray([[\u001b[39m2.0\u001b[39m, \u001b[39m3.0\u001b[39m, \u001b[39m4.0\u001b[39m, \u001b[39m5.0\u001b[39m],\n\u001b[0;32m      <a href='vscode-notebook-cell:/c%3A/Users/Program/Documents/pypython/python_2023/classwork05/2023_lpr_lab05.ipynb#Y224sZmlsZQ%3D%3D?line=2'>3</a>\u001b[0m               [\u001b[39m3.0\u001b[39m, \u001b[39m3.0\u001b[39m, \u001b[39m4.0\u001b[39m, \u001b[39m5.0\u001b[39m],\n\u001b[0;32m      <a href='vscode-notebook-cell:/c%3A/Users/Program/Documents/pypython/python_2023/classwork05/2023_lpr_lab05.ipynb#Y224sZmlsZQ%3D%3D?line=3'>4</a>\u001b[0m               [\u001b[39m4.0\u001b[39m, \u001b[39m4.0\u001b[39m, \u001b[39m4.0\u001b[39m, \u001b[39m5.0\u001b[39m], \n\u001b[0;32m      <a href='vscode-notebook-cell:/c%3A/Users/Program/Documents/pypython/python_2023/classwork05/2023_lpr_lab05.ipynb#Y224sZmlsZQ%3D%3D?line=4'>5</a>\u001b[0m               [\u001b[39m1.0\u001b[39m, \u001b[39m1.0\u001b[39m, \u001b[39m1.0\u001b[39m, \u001b[39m1.0\u001b[39m]])\n\u001b[1;32m----> <a href='vscode-notebook-cell:/c%3A/Users/Program/Documents/pypython/python_2023/classwork05/2023_lpr_lab05.ipynb#Y224sZmlsZQ%3D%3D?line=5'>6</a>\u001b[0m st\u001b[39m.\u001b[39;49mmode(A)\n",
      "File \u001b[1;32m~\\AppData\\Local\\Programs\\Python\\Python38-32\\lib\\statistics.py:558\u001b[0m, in \u001b[0;36mmode\u001b[1;34m(data)\u001b[0m\n\u001b[0;32m    535\u001b[0m \u001b[39m\u001b[39m\u001b[39m\"\"\"Return the most common data point from discrete or nominal data.\u001b[39;00m\n\u001b[0;32m    536\u001b[0m \n\u001b[0;32m    537\u001b[0m \u001b[39m``mode`` assumes discrete data, and returns a single value. This is the\u001b[39;00m\n\u001b[1;32m   (...)\u001b[0m\n\u001b[0;32m    555\u001b[0m \n\u001b[0;32m    556\u001b[0m \u001b[39m\"\"\"\u001b[39;00m\n\u001b[0;32m    557\u001b[0m data \u001b[39m=\u001b[39m \u001b[39miter\u001b[39m(data)\n\u001b[1;32m--> 558\u001b[0m pairs \u001b[39m=\u001b[39m Counter(data)\u001b[39m.\u001b[39mmost_common(\u001b[39m1\u001b[39m)\n\u001b[0;32m    559\u001b[0m \u001b[39mtry\u001b[39;00m:\n\u001b[0;32m    560\u001b[0m     \u001b[39mreturn\u001b[39;00m pairs[\u001b[39m0\u001b[39m][\u001b[39m0\u001b[39m]\n",
      "File \u001b[1;32m~\\AppData\\Local\\Programs\\Python\\Python38-32\\lib\\collections\\__init__.py:552\u001b[0m, in \u001b[0;36mCounter.__init__\u001b[1;34m(self, iterable, **kwds)\u001b[0m\n\u001b[0;32m    541\u001b[0m \u001b[39m\u001b[39m\u001b[39m'''Create a new, empty Counter object.  And if given, count elements\u001b[39;00m\n\u001b[0;32m    542\u001b[0m \u001b[39mfrom an input iterable.  Or, initialize the count from another mapping\u001b[39;00m\n\u001b[0;32m    543\u001b[0m \u001b[39mof elements to their counts.\u001b[39;00m\n\u001b[1;32m   (...)\u001b[0m\n\u001b[0;32m    549\u001b[0m \n\u001b[0;32m    550\u001b[0m \u001b[39m'''\u001b[39;00m\n\u001b[0;32m    551\u001b[0m \u001b[39msuper\u001b[39m(Counter, \u001b[39mself\u001b[39m)\u001b[39m.\u001b[39m\u001b[39m__init__\u001b[39m()\n\u001b[1;32m--> 552\u001b[0m \u001b[39mself\u001b[39;49m\u001b[39m.\u001b[39;49mupdate(iterable, \u001b[39m*\u001b[39;49m\u001b[39m*\u001b[39;49mkwds)\n",
      "File \u001b[1;32m~\\AppData\\Local\\Programs\\Python\\Python38-32\\lib\\collections\\__init__.py:637\u001b[0m, in \u001b[0;36mCounter.update\u001b[1;34m(self, iterable, **kwds)\u001b[0m\n\u001b[0;32m    635\u001b[0m             \u001b[39msuper\u001b[39m(Counter, \u001b[39mself\u001b[39m)\u001b[39m.\u001b[39mupdate(iterable) \u001b[39m# fast path when counter is empty\u001b[39;00m\n\u001b[0;32m    636\u001b[0m     \u001b[39melse\u001b[39;00m:\n\u001b[1;32m--> 637\u001b[0m         _count_elements(\u001b[39mself\u001b[39;49m, iterable)\n\u001b[0;32m    638\u001b[0m \u001b[39mif\u001b[39;00m kwds:\n\u001b[0;32m    639\u001b[0m     \u001b[39mself\u001b[39m\u001b[39m.\u001b[39mupdate(kwds)\n",
      "\u001b[1;31mTypeError\u001b[0m: unhashable type: 'numpy.ndarray'"
     ]
    }
   ],
   "source": [
    "A = np.array([[2.0, 3.0, 4.0, 5.0],\n",
    "              [3.0, 3.0, 4.0, 5.0],\n",
    "              [4.0, 4.0, 4.0, 5.0], \n",
    "              [1.0, 1.0, 1.0, 1.0]])\n"
   ]
  },
  {
   "cell_type": "markdown",
   "id": "1f2e5689",
   "metadata": {},
   "source": [
    "**Упражнение 15.** Найти n наибольших значений в массиве."
   ]
  },
  {
   "cell_type": "code",
   "execution_count": 142,
   "id": "8597e95e",
   "metadata": {},
   "outputs": [
    {
     "data": {
      "text/plain": [
       "array([[1., 1., 1., 1.],\n",
       "       [2., 3., 4., 5.],\n",
       "       [3., 3., 4., 5.],\n",
       "       [4., 4., 4., 5.]])"
      ]
     },
     "execution_count": 142,
     "metadata": {},
     "output_type": "execute_result"
    }
   ],
   "source": [
    "A = np.array([[2.0, 3.0, 4.0, 5.0],\n",
    "              [3.0, 3.0, 4.0, 5.0],\n",
    "              [4.0, 4.0, 4.0, 5.0], \n",
    "              [1.0, 1.0, 1.0, 1.0]])\n",
    "A.sort(axis=0)"
   ]
  },
  {
   "cell_type": "code",
   "execution_count": null,
   "id": "09f6dbaa",
   "metadata": {},
   "outputs": [],
   "source": []
  }
 ],
 "metadata": {
  "kernelspec": {
   "display_name": "Python 3 (ipykernel)",
   "language": "python",
   "name": "python3"
  },
  "language_info": {
   "codemirror_mode": {
    "name": "ipython",
    "version": 3
   },
   "file_extension": ".py",
   "mimetype": "text/x-python",
   "name": "python",
   "nbconvert_exporter": "python",
   "pygments_lexer": "ipython3",
   "version": "3.8.5"
  }
 },
 "nbformat": 4,
 "nbformat_minor": 5
}
